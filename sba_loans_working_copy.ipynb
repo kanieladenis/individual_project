{
 "cells": [
  {
   "cell_type": "markdown",
   "id": "ca3a189f",
   "metadata": {},
   "source": [
    "## Working Copy\n",
    "    \n",
    "<img src=\"sba_logo.png\" alt=\"SBA Logo\" title=\"SBA Logo\" width=\"300\" height=\"100\" align=\"right\"/>\n",
    "\n",
    "# <p style=\"font-size:40px ; color:blue\" align=\"center\">Predicting SBA Loan Defaults</p> <sub>By Kaniela Denis - 24 Jan 2022</sub>\n",
    "\n",
    "<hr style=\"border:2px solid blue\"> </hr>"
   ]
  },
  {
   "cell_type": "code",
   "execution_count": 1,
   "id": "310e236d",
   "metadata": {},
   "outputs": [],
   "source": [
    "# import basic libarires\n",
    "import pandas as pd\n",
    "import numpy as np\n",
    "import matplotlib.pyplot as plt\n",
    "import seaborn as sns\n",
    "import scipy.stats as stats\n",
    "import warnings\n",
    "warnings.filterwarnings(\"ignore\")\n",
    "\n",
    "# prep methods\n",
    "from sklearn.model_selection import train_test_split\n",
    "\n",
    "# Scaler\n",
    "from sklearn.preprocessing import MinMaxScaler\n",
    "\n",
    "# cluster method\n",
    "from sklearn.cluster import KMeans\n",
    "\n",
    "# Feature Engineering methods\n",
    "import sklearn.linear_model\n",
    "import sklearn.feature_selection\n",
    "\n",
    "#import classification modeling reporting\n",
    "from sklearn.metrics import classification_report\n",
    "from sklearn.metrics import confusion_matrix\n",
    "\n",
    "# Classification Modeling methods\n",
    "from sklearn.tree import DecisionTreeClassifier\n",
    "from sklearn.ensemble import RandomForestClassifier\n",
    "from sklearn.neighbors import KNeighborsClassifier"
   ]
  },
  {
   "cell_type": "markdown",
   "id": "d563f1b1",
   "metadata": {},
   "source": [
    "<hr style=\"border:2px solid blue\"> </hr>\n",
    "\n",
    "# <font color = 'red'> Planning"
   ]
  },
  {
   "cell_type": "markdown",
   "id": "57c57053",
   "metadata": {},
   "source": [
    "## Project Goals\n",
    "- Using classifcation models, discover drivers of SBA gauranteed loans that predict if that loan will default\n",
    "\n",
    "## Project Description\n",
    "- Loans are keys to making dreams come true from buying a house to starting a business. Small business loans come with high risk and it is the goal of this project to create a classification model that can predict if a loan will default.\n",
    "- Referenced from Kaggle: https://www.kaggle.com/mirbektoktogaraev/should-this-loan-be-approved-or-denied\n",
    "- References from Journal of Statistics Education https://www.tandfonline.com/doi/full/10.1080/10691898.2018.1434342\n",
    "\n",
    "## Project Plan\n",
    "### Plan\n",
    "- Pick Data Set\n",
    "    - Kaggle ***\n",
    "    - Data.gov\n",
    "    - Data.worldbank.org\n",
    "    - census.gov\n",
    "- Define Target\n",
    "    - is_default\n",
    "    \n",
    "### Acquire\n",
    "- Pull from Kaggle\n",
    "- Clean\n",
    "\n",
    "### Prepare\n",
    "- Clean\n",
    "- Remove Nulls\n",
    "- Remove Outliers\n",
    "- Remove Useless (keep simple)\n",
    "- Rename for Readability\n",
    "- Keep Simple\n",
    "\n",
    "### Explore\n",
    "- Find Drivers \n",
    "- Need 4 Visuals\n",
    "- Need 3 Stats Tests\n",
    "- Attemp 3 Cluster Combos\n",
    "- Charts:\n",
    "    - Status His()\n",
    "    - Scatterplot default locatoins overlay on map\n",
    "    - Timeline of default dates\n",
    "    - Timeline of approve dates\n",
    "    - Timeline of US GDP\n",
    "    - Scatterplot of NAICS hue by default\n",
    "- Columns to Start Explore:\n",
    "    - is_default\n",
    "    - appv_loan_amount\n",
    "    - sba_appv_amount\n",
    "    - new_exist\n",
    "    - naics\n",
    "    - no_emp\n",
    "\n",
    "### Model\n",
    "- Use classification\n",
    "- Need 3 Models + Baseline\n",
    "    - Decision Tree\n",
    "    - Random Forest\n",
    "    - K_Nearest Neighbor\n",
    "    - Evaluate and Choos best Model for Test Data\n",
    "- What the accuracy rates?\n",
    "- Visual of Model Predictions vs Actual\n",
    "\n",
    "### Deliver\n",
    "- Conclusion:\n",
    "    - Were the goals reached\n",
    "- Repo with Final Report, Woring Notebook, Modules, Readme\n",
    "    - link to presentation video if time allows\n",
    "\n",
    "## Initial Questions\n",
    "- Are there more defaulted loans?\n",
    "- What term lengths are common for defaulted loans?\n",
    "- What is the timeline of default loans vs non-default loans\n",
    "- In what industries do loan defaults occur most?\n",
    "- In what locations do loan defaults occur most\n",
    "\n",
    "## Deliver\n",
    "- GitHub Repo with Final Notebook and README\n",
    "- Project Summary\n",
    "- Requirements:\n",
    "    - 3+ Stats Test\n",
    "    - Answered 4 questions\n",
    "    - Creaete 3 Models\n",
    "    - Trello Board\n",
    "\n",
    "## Data Dictionary"
   ]
  },
  {
   "cell_type": "code",
   "execution_count": 2,
   "id": "ba5b3611",
   "metadata": {},
   "outputs": [
    {
     "data": {
      "text/html": [
       "<div>\n",
       "<style scoped>\n",
       "    .dataframe tbody tr th:only-of-type {\n",
       "        vertical-align: middle;\n",
       "    }\n",
       "\n",
       "    .dataframe tbody tr th {\n",
       "        vertical-align: top;\n",
       "    }\n",
       "\n",
       "    .dataframe thead th {\n",
       "        text-align: right;\n",
       "    }\n",
       "</style>\n",
       "<table border=\"1\" class=\"dataframe\">\n",
       "  <thead>\n",
       "    <tr style=\"text-align: right;\">\n",
       "      <th></th>\n",
       "      <th>Variable name</th>\n",
       "      <th>Description of variable</th>\n",
       "    </tr>\n",
       "  </thead>\n",
       "  <tbody>\n",
       "    <tr>\n",
       "      <th>0</th>\n",
       "      <td>appv_date</td>\n",
       "      <td>Date SBA commitment issued</td>\n",
       "    </tr>\n",
       "    <tr>\n",
       "      <th>1</th>\n",
       "      <td>Term</td>\n",
       "      <td>Loan term in months</td>\n",
       "    </tr>\n",
       "    <tr>\n",
       "      <th>2</th>\n",
       "      <td>no_emp</td>\n",
       "      <td>Number of business employees</td>\n",
       "    </tr>\n",
       "    <tr>\n",
       "      <th>3</th>\n",
       "      <td>new_exist</td>\n",
       "      <td>1 = Existing business, 2 = New business</td>\n",
       "    </tr>\n",
       "    <tr>\n",
       "      <th>4</th>\n",
       "      <td>jobs_created</td>\n",
       "      <td>Number of jobs created</td>\n",
       "    </tr>\n",
       "    <tr>\n",
       "      <th>5</th>\n",
       "      <td>jobs_retained</td>\n",
       "      <td>Number of jobs retained</td>\n",
       "    </tr>\n",
       "    <tr>\n",
       "      <th>6</th>\n",
       "      <td>low_doc</td>\n",
       "      <td>LowDoc Loan Program: Y = Yes, N = No. Allows l...</td>\n",
       "    </tr>\n",
       "    <tr>\n",
       "      <th>7</th>\n",
       "      <td>disbursement_date</td>\n",
       "      <td>Date Funds were Paid to the Business</td>\n",
       "    </tr>\n",
       "    <tr>\n",
       "      <th>8</th>\n",
       "      <td>disbursement_gross</td>\n",
       "      <td>Amount Paid to the Business</td>\n",
       "    </tr>\n",
       "    <tr>\n",
       "      <th>9</th>\n",
       "      <td>loan_status</td>\n",
       "      <td>Loan status charged off = CHGOFF, Paid in full...</td>\n",
       "    </tr>\n",
       "    <tr>\n",
       "      <th>10</th>\n",
       "      <td>default_amount</td>\n",
       "      <td>Amount of debt considered  unplayable</td>\n",
       "    </tr>\n",
       "    <tr>\n",
       "      <th>11</th>\n",
       "      <td>appv_loan_amount</td>\n",
       "      <td>Gross amount of loan approved by bank</td>\n",
       "    </tr>\n",
       "    <tr>\n",
       "      <th>12</th>\n",
       "      <td>sba_appv_amount</td>\n",
       "      <td>SBA's guaranteed amount of approved loan</td>\n",
       "    </tr>\n",
       "    <tr>\n",
       "      <th>13</th>\n",
       "      <td>is_new</td>\n",
       "      <td>New Business is ‘1’</td>\n",
       "    </tr>\n",
       "    <tr>\n",
       "      <th>14</th>\n",
       "      <td>sba_percent</td>\n",
       "      <td>Percentage of Approved Loan Amount Covered by SBA</td>\n",
       "    </tr>\n",
       "    <tr>\n",
       "      <th>15</th>\n",
       "      <td>monthly_debt</td>\n",
       "      <td>Total Approved Loan Divided by the Number of M...</td>\n",
       "    </tr>\n",
       "    <tr>\n",
       "      <th>16</th>\n",
       "      <td>jobs_count</td>\n",
       "      <td>Sum of Jobs Created and Jobs Retained</td>\n",
       "    </tr>\n",
       "    <tr>\n",
       "      <th>17</th>\n",
       "      <td>is_default</td>\n",
       "      <td>Loans that defaulted are ‘1’</td>\n",
       "    </tr>\n",
       "    <tr>\n",
       "      <th>18</th>\n",
       "      <td>is_naics_defaulter</td>\n",
       "      <td>NAICS that defaulted above average are ‘1’</td>\n",
       "    </tr>\n",
       "    <tr>\n",
       "      <th>19</th>\n",
       "      <td>is_state_defaulter</td>\n",
       "      <td>States that had above average default percenta...</td>\n",
       "    </tr>\n",
       "  </tbody>\n",
       "</table>\n",
       "</div>"
      ],
      "text/plain": [
       "         Variable name                            Description of variable\n",
       "0            appv_date                         Date SBA commitment issued\n",
       "1                 Term                                Loan term in months\n",
       "2               no_emp                       Number of business employees\n",
       "3            new_exist            1 = Existing business, 2 = New business\n",
       "4         jobs_created                             Number of jobs created\n",
       "5        jobs_retained                            Number of jobs retained\n",
       "6              low_doc  LowDoc Loan Program: Y = Yes, N = No. Allows l...\n",
       "7    disbursement_date               Date Funds were Paid to the Business\n",
       "8   disbursement_gross                        Amount Paid to the Business\n",
       "9          loan_status  Loan status charged off = CHGOFF, Paid in full...\n",
       "10      default_amount              Amount of debt considered  unplayable\n",
       "11    appv_loan_amount              Gross amount of loan approved by bank\n",
       "12     sba_appv_amount           SBA's guaranteed amount of approved loan\n",
       "13              is_new                                New Business is ‘1’\n",
       "14         sba_percent  Percentage of Approved Loan Amount Covered by SBA\n",
       "15        monthly_debt  Total Approved Loan Divided by the Number of M...\n",
       "16          jobs_count              Sum of Jobs Created and Jobs Retained\n",
       "17          is_default                       Loans that defaulted are ‘1’\n",
       "18  is_naics_defaulter         NAICS that defaulted above average are ‘1’\n",
       "19  is_state_defaulter  States that had above average default percenta..."
      ]
     },
     "execution_count": 2,
     "metadata": {},
     "output_type": "execute_result"
    }
   ],
   "source": [
    "data_dictionary = pd.read_csv('data_dictionary.csv')\n",
    "data_dictionary"
   ]
  },
  {
   "cell_type": "markdown",
   "id": "04c6de59",
   "metadata": {},
   "source": [
    "<hr style=\"border:2px solid blue\"> </hr>\n",
    "\n",
    "# <font color = 'red'> Acquisition"
   ]
  },
  {
   "cell_type": "markdown",
   "id": "ccc334d3",
   "metadata": {},
   "source": [
    "## Get Data\n",
    "- Download 'SBAnational.csv' from Kaggle https://www.kaggle.com/mirbektoktogaraev/should-this-loan-be-approved-or-denied"
   ]
  },
  {
   "cell_type": "code",
   "execution_count": 3,
   "id": "dc1e53dd",
   "metadata": {},
   "outputs": [
    {
     "data": {
      "text/html": [
       "<div>\n",
       "<style scoped>\n",
       "    .dataframe tbody tr th:only-of-type {\n",
       "        vertical-align: middle;\n",
       "    }\n",
       "\n",
       "    .dataframe tbody tr th {\n",
       "        vertical-align: top;\n",
       "    }\n",
       "\n",
       "    .dataframe thead th {\n",
       "        text-align: right;\n",
       "    }\n",
       "</style>\n",
       "<table border=\"1\" class=\"dataframe\">\n",
       "  <thead>\n",
       "    <tr style=\"text-align: right;\">\n",
       "      <th></th>\n",
       "      <th>LoanNr_ChkDgt</th>\n",
       "      <th>Name</th>\n",
       "      <th>City</th>\n",
       "      <th>State</th>\n",
       "      <th>Zip</th>\n",
       "      <th>Bank</th>\n",
       "      <th>BankState</th>\n",
       "      <th>NAICS</th>\n",
       "      <th>ApprovalDate</th>\n",
       "      <th>ApprovalFY</th>\n",
       "      <th>...</th>\n",
       "      <th>RevLineCr</th>\n",
       "      <th>LowDoc</th>\n",
       "      <th>ChgOffDate</th>\n",
       "      <th>DisbursementDate</th>\n",
       "      <th>DisbursementGross</th>\n",
       "      <th>BalanceGross</th>\n",
       "      <th>MIS_Status</th>\n",
       "      <th>ChgOffPrinGr</th>\n",
       "      <th>GrAppv</th>\n",
       "      <th>SBA_Appv</th>\n",
       "    </tr>\n",
       "  </thead>\n",
       "  <tbody>\n",
       "    <tr>\n",
       "      <th>0</th>\n",
       "      <td>1000014003</td>\n",
       "      <td>ABC HOBBYCRAFT</td>\n",
       "      <td>EVANSVILLE</td>\n",
       "      <td>IN</td>\n",
       "      <td>47711</td>\n",
       "      <td>FIFTH THIRD BANK</td>\n",
       "      <td>OH</td>\n",
       "      <td>451120</td>\n",
       "      <td>28-Feb-97</td>\n",
       "      <td>1997</td>\n",
       "      <td>...</td>\n",
       "      <td>N</td>\n",
       "      <td>Y</td>\n",
       "      <td>NaN</td>\n",
       "      <td>28-Feb-99</td>\n",
       "      <td>$60,000.00</td>\n",
       "      <td>$0.00</td>\n",
       "      <td>P I F</td>\n",
       "      <td>$0.00</td>\n",
       "      <td>$60,000.00</td>\n",
       "      <td>$48,000.00</td>\n",
       "    </tr>\n",
       "    <tr>\n",
       "      <th>1</th>\n",
       "      <td>1000024006</td>\n",
       "      <td>LANDMARK BAR &amp; GRILLE (THE)</td>\n",
       "      <td>NEW PARIS</td>\n",
       "      <td>IN</td>\n",
       "      <td>46526</td>\n",
       "      <td>1ST SOURCE BANK</td>\n",
       "      <td>IN</td>\n",
       "      <td>722410</td>\n",
       "      <td>28-Feb-97</td>\n",
       "      <td>1997</td>\n",
       "      <td>...</td>\n",
       "      <td>N</td>\n",
       "      <td>Y</td>\n",
       "      <td>NaN</td>\n",
       "      <td>31-May-97</td>\n",
       "      <td>$40,000.00</td>\n",
       "      <td>$0.00</td>\n",
       "      <td>P I F</td>\n",
       "      <td>$0.00</td>\n",
       "      <td>$40,000.00</td>\n",
       "      <td>$32,000.00</td>\n",
       "    </tr>\n",
       "    <tr>\n",
       "      <th>2</th>\n",
       "      <td>1000034009</td>\n",
       "      <td>WHITLOCK DDS, TODD M.</td>\n",
       "      <td>BLOOMINGTON</td>\n",
       "      <td>IN</td>\n",
       "      <td>47401</td>\n",
       "      <td>GRANT COUNTY STATE BANK</td>\n",
       "      <td>IN</td>\n",
       "      <td>621210</td>\n",
       "      <td>28-Feb-97</td>\n",
       "      <td>1997</td>\n",
       "      <td>...</td>\n",
       "      <td>N</td>\n",
       "      <td>N</td>\n",
       "      <td>NaN</td>\n",
       "      <td>31-Dec-97</td>\n",
       "      <td>$287,000.00</td>\n",
       "      <td>$0.00</td>\n",
       "      <td>P I F</td>\n",
       "      <td>$0.00</td>\n",
       "      <td>$287,000.00</td>\n",
       "      <td>$215,250.00</td>\n",
       "    </tr>\n",
       "    <tr>\n",
       "      <th>3</th>\n",
       "      <td>1000044001</td>\n",
       "      <td>BIG BUCKS PAWN &amp; JEWELRY, LLC</td>\n",
       "      <td>BROKEN ARROW</td>\n",
       "      <td>OK</td>\n",
       "      <td>74012</td>\n",
       "      <td>1ST NATL BK &amp; TR CO OF BROKEN</td>\n",
       "      <td>OK</td>\n",
       "      <td>0</td>\n",
       "      <td>28-Feb-97</td>\n",
       "      <td>1997</td>\n",
       "      <td>...</td>\n",
       "      <td>N</td>\n",
       "      <td>Y</td>\n",
       "      <td>NaN</td>\n",
       "      <td>30-Jun-97</td>\n",
       "      <td>$35,000.00</td>\n",
       "      <td>$0.00</td>\n",
       "      <td>P I F</td>\n",
       "      <td>$0.00</td>\n",
       "      <td>$35,000.00</td>\n",
       "      <td>$28,000.00</td>\n",
       "    </tr>\n",
       "    <tr>\n",
       "      <th>4</th>\n",
       "      <td>1000054004</td>\n",
       "      <td>ANASTASIA CONFECTIONS, INC.</td>\n",
       "      <td>ORLANDO</td>\n",
       "      <td>FL</td>\n",
       "      <td>32801</td>\n",
       "      <td>FLORIDA BUS. DEVEL CORP</td>\n",
       "      <td>FL</td>\n",
       "      <td>0</td>\n",
       "      <td>28-Feb-97</td>\n",
       "      <td>1997</td>\n",
       "      <td>...</td>\n",
       "      <td>N</td>\n",
       "      <td>N</td>\n",
       "      <td>NaN</td>\n",
       "      <td>14-May-97</td>\n",
       "      <td>$229,000.00</td>\n",
       "      <td>$0.00</td>\n",
       "      <td>P I F</td>\n",
       "      <td>$0.00</td>\n",
       "      <td>$229,000.00</td>\n",
       "      <td>$229,000.00</td>\n",
       "    </tr>\n",
       "  </tbody>\n",
       "</table>\n",
       "<p>5 rows × 27 columns</p>\n",
       "</div>"
      ],
      "text/plain": [
       "   LoanNr_ChkDgt                           Name          City State    Zip  \\\n",
       "0     1000014003                 ABC HOBBYCRAFT    EVANSVILLE    IN  47711   \n",
       "1     1000024006    LANDMARK BAR & GRILLE (THE)     NEW PARIS    IN  46526   \n",
       "2     1000034009          WHITLOCK DDS, TODD M.   BLOOMINGTON    IN  47401   \n",
       "3     1000044001  BIG BUCKS PAWN & JEWELRY, LLC  BROKEN ARROW    OK  74012   \n",
       "4     1000054004    ANASTASIA CONFECTIONS, INC.       ORLANDO    FL  32801   \n",
       "\n",
       "                            Bank BankState   NAICS ApprovalDate ApprovalFY  \\\n",
       "0               FIFTH THIRD BANK        OH  451120    28-Feb-97       1997   \n",
       "1                1ST SOURCE BANK        IN  722410    28-Feb-97       1997   \n",
       "2        GRANT COUNTY STATE BANK        IN  621210    28-Feb-97       1997   \n",
       "3  1ST NATL BK & TR CO OF BROKEN        OK       0    28-Feb-97       1997   \n",
       "4        FLORIDA BUS. DEVEL CORP        FL       0    28-Feb-97       1997   \n",
       "\n",
       "   ...  RevLineCr  LowDoc  ChgOffDate  DisbursementDate  DisbursementGross  \\\n",
       "0  ...          N       Y         NaN         28-Feb-99        $60,000.00    \n",
       "1  ...          N       Y         NaN         31-May-97        $40,000.00    \n",
       "2  ...          N       N         NaN         31-Dec-97       $287,000.00    \n",
       "3  ...          N       Y         NaN         30-Jun-97        $35,000.00    \n",
       "4  ...          N       N         NaN         14-May-97       $229,000.00    \n",
       "\n",
       "   BalanceGross  MIS_Status ChgOffPrinGr        GrAppv      SBA_Appv  \n",
       "0        $0.00        P I F       $0.00    $60,000.00    $48,000.00   \n",
       "1        $0.00        P I F       $0.00    $40,000.00    $32,000.00   \n",
       "2        $0.00        P I F       $0.00   $287,000.00   $215,250.00   \n",
       "3        $0.00        P I F       $0.00    $35,000.00    $28,000.00   \n",
       "4        $0.00        P I F       $0.00   $229,000.00   $229,000.00   \n",
       "\n",
       "[5 rows x 27 columns]"
      ]
     },
     "execution_count": 3,
     "metadata": {},
     "output_type": "execute_result"
    }
   ],
   "source": [
    "df = pd.read_csv('SBAnational.csv')\n",
    "df.head()"
   ]
  },
  {
   "cell_type": "code",
   "execution_count": 4,
   "id": "f9adf696",
   "metadata": {},
   "outputs": [
    {
     "data": {
      "text/plain": [
       "(899164, 27)"
      ]
     },
     "execution_count": 4,
     "metadata": {},
     "output_type": "execute_result"
    }
   ],
   "source": [
    "df.shape"
   ]
  },
  {
   "cell_type": "markdown",
   "id": "8fc9d332",
   "metadata": {},
   "source": [
    "<hr style=\"border:2px solid blue\"> </hr>\n",
    "\n",
    "# <font color = 'red'> Prepare"
   ]
  },
  {
   "cell_type": "markdown",
   "id": "d47019b2",
   "metadata": {},
   "source": [
    "## Rename Columns for Readability"
   ]
  },
  {
   "cell_type": "code",
   "execution_count": 6,
   "id": "55d72193",
   "metadata": {},
   "outputs": [
    {
     "data": {
      "text/html": [
       "<div>\n",
       "<style scoped>\n",
       "    .dataframe tbody tr th:only-of-type {\n",
       "        vertical-align: middle;\n",
       "    }\n",
       "\n",
       "    .dataframe tbody tr th {\n",
       "        vertical-align: top;\n",
       "    }\n",
       "\n",
       "    .dataframe thead th {\n",
       "        text-align: right;\n",
       "    }\n",
       "</style>\n",
       "<table border=\"1\" class=\"dataframe\">\n",
       "  <thead>\n",
       "    <tr style=\"text-align: right;\">\n",
       "      <th></th>\n",
       "      <th>loannr_chkdgt</th>\n",
       "      <th>name</th>\n",
       "      <th>city</th>\n",
       "      <th>state</th>\n",
       "      <th>zip</th>\n",
       "      <th>bank</th>\n",
       "      <th>bankstate</th>\n",
       "      <th>naics</th>\n",
       "      <th>approvaldate</th>\n",
       "      <th>approvalfy</th>\n",
       "      <th>...</th>\n",
       "      <th>revlinecr</th>\n",
       "      <th>lowdoc</th>\n",
       "      <th>chgoffdate</th>\n",
       "      <th>disbursementdate</th>\n",
       "      <th>disbursementgross</th>\n",
       "      <th>balancegross</th>\n",
       "      <th>mis_status</th>\n",
       "      <th>chgoffpringr</th>\n",
       "      <th>grappv</th>\n",
       "      <th>sba_appv</th>\n",
       "    </tr>\n",
       "  </thead>\n",
       "  <tbody>\n",
       "    <tr>\n",
       "      <th>0</th>\n",
       "      <td>1000014003</td>\n",
       "      <td>ABC HOBBYCRAFT</td>\n",
       "      <td>EVANSVILLE</td>\n",
       "      <td>IN</td>\n",
       "      <td>47711</td>\n",
       "      <td>FIFTH THIRD BANK</td>\n",
       "      <td>OH</td>\n",
       "      <td>451120</td>\n",
       "      <td>28-Feb-97</td>\n",
       "      <td>1997</td>\n",
       "      <td>...</td>\n",
       "      <td>N</td>\n",
       "      <td>Y</td>\n",
       "      <td>NaN</td>\n",
       "      <td>28-Feb-99</td>\n",
       "      <td>$60,000.00</td>\n",
       "      <td>$0.00</td>\n",
       "      <td>P I F</td>\n",
       "      <td>$0.00</td>\n",
       "      <td>$60,000.00</td>\n",
       "      <td>$48,000.00</td>\n",
       "    </tr>\n",
       "    <tr>\n",
       "      <th>1</th>\n",
       "      <td>1000024006</td>\n",
       "      <td>LANDMARK BAR &amp; GRILLE (THE)</td>\n",
       "      <td>NEW PARIS</td>\n",
       "      <td>IN</td>\n",
       "      <td>46526</td>\n",
       "      <td>1ST SOURCE BANK</td>\n",
       "      <td>IN</td>\n",
       "      <td>722410</td>\n",
       "      <td>28-Feb-97</td>\n",
       "      <td>1997</td>\n",
       "      <td>...</td>\n",
       "      <td>N</td>\n",
       "      <td>Y</td>\n",
       "      <td>NaN</td>\n",
       "      <td>31-May-97</td>\n",
       "      <td>$40,000.00</td>\n",
       "      <td>$0.00</td>\n",
       "      <td>P I F</td>\n",
       "      <td>$0.00</td>\n",
       "      <td>$40,000.00</td>\n",
       "      <td>$32,000.00</td>\n",
       "    </tr>\n",
       "    <tr>\n",
       "      <th>2</th>\n",
       "      <td>1000034009</td>\n",
       "      <td>WHITLOCK DDS, TODD M.</td>\n",
       "      <td>BLOOMINGTON</td>\n",
       "      <td>IN</td>\n",
       "      <td>47401</td>\n",
       "      <td>GRANT COUNTY STATE BANK</td>\n",
       "      <td>IN</td>\n",
       "      <td>621210</td>\n",
       "      <td>28-Feb-97</td>\n",
       "      <td>1997</td>\n",
       "      <td>...</td>\n",
       "      <td>N</td>\n",
       "      <td>N</td>\n",
       "      <td>NaN</td>\n",
       "      <td>31-Dec-97</td>\n",
       "      <td>$287,000.00</td>\n",
       "      <td>$0.00</td>\n",
       "      <td>P I F</td>\n",
       "      <td>$0.00</td>\n",
       "      <td>$287,000.00</td>\n",
       "      <td>$215,250.00</td>\n",
       "    </tr>\n",
       "    <tr>\n",
       "      <th>3</th>\n",
       "      <td>1000044001</td>\n",
       "      <td>BIG BUCKS PAWN &amp; JEWELRY, LLC</td>\n",
       "      <td>BROKEN ARROW</td>\n",
       "      <td>OK</td>\n",
       "      <td>74012</td>\n",
       "      <td>1ST NATL BK &amp; TR CO OF BROKEN</td>\n",
       "      <td>OK</td>\n",
       "      <td>0</td>\n",
       "      <td>28-Feb-97</td>\n",
       "      <td>1997</td>\n",
       "      <td>...</td>\n",
       "      <td>N</td>\n",
       "      <td>Y</td>\n",
       "      <td>NaN</td>\n",
       "      <td>30-Jun-97</td>\n",
       "      <td>$35,000.00</td>\n",
       "      <td>$0.00</td>\n",
       "      <td>P I F</td>\n",
       "      <td>$0.00</td>\n",
       "      <td>$35,000.00</td>\n",
       "      <td>$28,000.00</td>\n",
       "    </tr>\n",
       "    <tr>\n",
       "      <th>4</th>\n",
       "      <td>1000054004</td>\n",
       "      <td>ANASTASIA CONFECTIONS, INC.</td>\n",
       "      <td>ORLANDO</td>\n",
       "      <td>FL</td>\n",
       "      <td>32801</td>\n",
       "      <td>FLORIDA BUS. DEVEL CORP</td>\n",
       "      <td>FL</td>\n",
       "      <td>0</td>\n",
       "      <td>28-Feb-97</td>\n",
       "      <td>1997</td>\n",
       "      <td>...</td>\n",
       "      <td>N</td>\n",
       "      <td>N</td>\n",
       "      <td>NaN</td>\n",
       "      <td>14-May-97</td>\n",
       "      <td>$229,000.00</td>\n",
       "      <td>$0.00</td>\n",
       "      <td>P I F</td>\n",
       "      <td>$0.00</td>\n",
       "      <td>$229,000.00</td>\n",
       "      <td>$229,000.00</td>\n",
       "    </tr>\n",
       "  </tbody>\n",
       "</table>\n",
       "<p>5 rows × 27 columns</p>\n",
       "</div>"
      ],
      "text/plain": [
       "   loannr_chkdgt                           name          city state    zip  \\\n",
       "0     1000014003                 ABC HOBBYCRAFT    EVANSVILLE    IN  47711   \n",
       "1     1000024006    LANDMARK BAR & GRILLE (THE)     NEW PARIS    IN  46526   \n",
       "2     1000034009          WHITLOCK DDS, TODD M.   BLOOMINGTON    IN  47401   \n",
       "3     1000044001  BIG BUCKS PAWN & JEWELRY, LLC  BROKEN ARROW    OK  74012   \n",
       "4     1000054004    ANASTASIA CONFECTIONS, INC.       ORLANDO    FL  32801   \n",
       "\n",
       "                            bank bankstate   naics approvaldate approvalfy  \\\n",
       "0               FIFTH THIRD BANK        OH  451120    28-Feb-97       1997   \n",
       "1                1ST SOURCE BANK        IN  722410    28-Feb-97       1997   \n",
       "2        GRANT COUNTY STATE BANK        IN  621210    28-Feb-97       1997   \n",
       "3  1ST NATL BK & TR CO OF BROKEN        OK       0    28-Feb-97       1997   \n",
       "4        FLORIDA BUS. DEVEL CORP        FL       0    28-Feb-97       1997   \n",
       "\n",
       "   ...  revlinecr  lowdoc  chgoffdate  disbursementdate  disbursementgross  \\\n",
       "0  ...          N       Y         NaN         28-Feb-99        $60,000.00    \n",
       "1  ...          N       Y         NaN         31-May-97        $40,000.00    \n",
       "2  ...          N       N         NaN         31-Dec-97       $287,000.00    \n",
       "3  ...          N       Y         NaN         30-Jun-97        $35,000.00    \n",
       "4  ...          N       N         NaN         14-May-97       $229,000.00    \n",
       "\n",
       "   balancegross  mis_status chgoffpringr        grappv      sba_appv  \n",
       "0        $0.00        P I F       $0.00    $60,000.00    $48,000.00   \n",
       "1        $0.00        P I F       $0.00    $40,000.00    $32,000.00   \n",
       "2        $0.00        P I F       $0.00   $287,000.00   $215,250.00   \n",
       "3        $0.00        P I F       $0.00    $35,000.00    $28,000.00   \n",
       "4        $0.00        P I F       $0.00   $229,000.00   $229,000.00   \n",
       "\n",
       "[5 rows x 27 columns]"
      ]
     },
     "execution_count": 6,
     "metadata": {},
     "output_type": "execute_result"
    }
   ],
   "source": [
    "# lowercase columns names\n",
    "df.columns = df.columns.str.lower()\n",
    "df.head()"
   ]
  },
  {
   "cell_type": "code",
   "execution_count": 7,
   "id": "8a0d0c21",
   "metadata": {},
   "outputs": [
    {
     "data": {
      "text/html": [
       "<div>\n",
       "<style scoped>\n",
       "    .dataframe tbody tr th:only-of-type {\n",
       "        vertical-align: middle;\n",
       "    }\n",
       "\n",
       "    .dataframe tbody tr th {\n",
       "        vertical-align: top;\n",
       "    }\n",
       "\n",
       "    .dataframe thead th {\n",
       "        text-align: right;\n",
       "    }\n",
       "</style>\n",
       "<table border=\"1\" class=\"dataframe\">\n",
       "  <thead>\n",
       "    <tr style=\"text-align: right;\">\n",
       "      <th></th>\n",
       "      <th>loan_id</th>\n",
       "      <th>name</th>\n",
       "      <th>city</th>\n",
       "      <th>state</th>\n",
       "      <th>zip</th>\n",
       "      <th>bank</th>\n",
       "      <th>bank_state</th>\n",
       "      <th>naics</th>\n",
       "      <th>appv_date</th>\n",
       "      <th>appv_fy</th>\n",
       "      <th>...</th>\n",
       "      <th>rev_credit</th>\n",
       "      <th>low_doc</th>\n",
       "      <th>default_date</th>\n",
       "      <th>disbursement_date</th>\n",
       "      <th>disbursement_gross</th>\n",
       "      <th>outstanding_gross</th>\n",
       "      <th>loan_status</th>\n",
       "      <th>default_amount</th>\n",
       "      <th>appv_loan_amount</th>\n",
       "      <th>sba_appv_amount</th>\n",
       "    </tr>\n",
       "  </thead>\n",
       "  <tbody>\n",
       "    <tr>\n",
       "      <th>0</th>\n",
       "      <td>1000014003</td>\n",
       "      <td>ABC HOBBYCRAFT</td>\n",
       "      <td>EVANSVILLE</td>\n",
       "      <td>IN</td>\n",
       "      <td>47711</td>\n",
       "      <td>FIFTH THIRD BANK</td>\n",
       "      <td>OH</td>\n",
       "      <td>451120</td>\n",
       "      <td>28-Feb-97</td>\n",
       "      <td>1997</td>\n",
       "      <td>...</td>\n",
       "      <td>N</td>\n",
       "      <td>Y</td>\n",
       "      <td>NaN</td>\n",
       "      <td>28-Feb-99</td>\n",
       "      <td>$60,000.00</td>\n",
       "      <td>$0.00</td>\n",
       "      <td>P I F</td>\n",
       "      <td>$0.00</td>\n",
       "      <td>$60,000.00</td>\n",
       "      <td>$48,000.00</td>\n",
       "    </tr>\n",
       "    <tr>\n",
       "      <th>1</th>\n",
       "      <td>1000024006</td>\n",
       "      <td>LANDMARK BAR &amp; GRILLE (THE)</td>\n",
       "      <td>NEW PARIS</td>\n",
       "      <td>IN</td>\n",
       "      <td>46526</td>\n",
       "      <td>1ST SOURCE BANK</td>\n",
       "      <td>IN</td>\n",
       "      <td>722410</td>\n",
       "      <td>28-Feb-97</td>\n",
       "      <td>1997</td>\n",
       "      <td>...</td>\n",
       "      <td>N</td>\n",
       "      <td>Y</td>\n",
       "      <td>NaN</td>\n",
       "      <td>31-May-97</td>\n",
       "      <td>$40,000.00</td>\n",
       "      <td>$0.00</td>\n",
       "      <td>P I F</td>\n",
       "      <td>$0.00</td>\n",
       "      <td>$40,000.00</td>\n",
       "      <td>$32,000.00</td>\n",
       "    </tr>\n",
       "    <tr>\n",
       "      <th>2</th>\n",
       "      <td>1000034009</td>\n",
       "      <td>WHITLOCK DDS, TODD M.</td>\n",
       "      <td>BLOOMINGTON</td>\n",
       "      <td>IN</td>\n",
       "      <td>47401</td>\n",
       "      <td>GRANT COUNTY STATE BANK</td>\n",
       "      <td>IN</td>\n",
       "      <td>621210</td>\n",
       "      <td>28-Feb-97</td>\n",
       "      <td>1997</td>\n",
       "      <td>...</td>\n",
       "      <td>N</td>\n",
       "      <td>N</td>\n",
       "      <td>NaN</td>\n",
       "      <td>31-Dec-97</td>\n",
       "      <td>$287,000.00</td>\n",
       "      <td>$0.00</td>\n",
       "      <td>P I F</td>\n",
       "      <td>$0.00</td>\n",
       "      <td>$287,000.00</td>\n",
       "      <td>$215,250.00</td>\n",
       "    </tr>\n",
       "    <tr>\n",
       "      <th>3</th>\n",
       "      <td>1000044001</td>\n",
       "      <td>BIG BUCKS PAWN &amp; JEWELRY, LLC</td>\n",
       "      <td>BROKEN ARROW</td>\n",
       "      <td>OK</td>\n",
       "      <td>74012</td>\n",
       "      <td>1ST NATL BK &amp; TR CO OF BROKEN</td>\n",
       "      <td>OK</td>\n",
       "      <td>0</td>\n",
       "      <td>28-Feb-97</td>\n",
       "      <td>1997</td>\n",
       "      <td>...</td>\n",
       "      <td>N</td>\n",
       "      <td>Y</td>\n",
       "      <td>NaN</td>\n",
       "      <td>30-Jun-97</td>\n",
       "      <td>$35,000.00</td>\n",
       "      <td>$0.00</td>\n",
       "      <td>P I F</td>\n",
       "      <td>$0.00</td>\n",
       "      <td>$35,000.00</td>\n",
       "      <td>$28,000.00</td>\n",
       "    </tr>\n",
       "    <tr>\n",
       "      <th>4</th>\n",
       "      <td>1000054004</td>\n",
       "      <td>ANASTASIA CONFECTIONS, INC.</td>\n",
       "      <td>ORLANDO</td>\n",
       "      <td>FL</td>\n",
       "      <td>32801</td>\n",
       "      <td>FLORIDA BUS. DEVEL CORP</td>\n",
       "      <td>FL</td>\n",
       "      <td>0</td>\n",
       "      <td>28-Feb-97</td>\n",
       "      <td>1997</td>\n",
       "      <td>...</td>\n",
       "      <td>N</td>\n",
       "      <td>N</td>\n",
       "      <td>NaN</td>\n",
       "      <td>14-May-97</td>\n",
       "      <td>$229,000.00</td>\n",
       "      <td>$0.00</td>\n",
       "      <td>P I F</td>\n",
       "      <td>$0.00</td>\n",
       "      <td>$229,000.00</td>\n",
       "      <td>$229,000.00</td>\n",
       "    </tr>\n",
       "  </tbody>\n",
       "</table>\n",
       "<p>5 rows × 27 columns</p>\n",
       "</div>"
      ],
      "text/plain": [
       "      loan_id                           name          city state    zip  \\\n",
       "0  1000014003                 ABC HOBBYCRAFT    EVANSVILLE    IN  47711   \n",
       "1  1000024006    LANDMARK BAR & GRILLE (THE)     NEW PARIS    IN  46526   \n",
       "2  1000034009          WHITLOCK DDS, TODD M.   BLOOMINGTON    IN  47401   \n",
       "3  1000044001  BIG BUCKS PAWN & JEWELRY, LLC  BROKEN ARROW    OK  74012   \n",
       "4  1000054004    ANASTASIA CONFECTIONS, INC.       ORLANDO    FL  32801   \n",
       "\n",
       "                            bank bank_state   naics  appv_date appv_fy  ...  \\\n",
       "0               FIFTH THIRD BANK         OH  451120  28-Feb-97    1997  ...   \n",
       "1                1ST SOURCE BANK         IN  722410  28-Feb-97    1997  ...   \n",
       "2        GRANT COUNTY STATE BANK         IN  621210  28-Feb-97    1997  ...   \n",
       "3  1ST NATL BK & TR CO OF BROKEN         OK       0  28-Feb-97    1997  ...   \n",
       "4        FLORIDA BUS. DEVEL CORP         FL       0  28-Feb-97    1997  ...   \n",
       "\n",
       "   rev_credit  low_doc  default_date  disbursement_date  disbursement_gross  \\\n",
       "0           N        Y           NaN          28-Feb-99         $60,000.00    \n",
       "1           N        Y           NaN          31-May-97         $40,000.00    \n",
       "2           N        N           NaN          31-Dec-97        $287,000.00    \n",
       "3           N        Y           NaN          30-Jun-97         $35,000.00    \n",
       "4           N        N           NaN          14-May-97        $229,000.00    \n",
       "\n",
       "   outstanding_gross  loan_status default_amount appv_loan_amount  \\\n",
       "0             $0.00         P I F         $0.00       $60,000.00    \n",
       "1             $0.00         P I F         $0.00       $40,000.00    \n",
       "2             $0.00         P I F         $0.00      $287,000.00    \n",
       "3             $0.00         P I F         $0.00       $35,000.00    \n",
       "4             $0.00         P I F         $0.00      $229,000.00    \n",
       "\n",
       "  sba_appv_amount  \n",
       "0     $48,000.00   \n",
       "1     $32,000.00   \n",
       "2    $215,250.00   \n",
       "3     $28,000.00   \n",
       "4    $229,000.00   \n",
       "\n",
       "[5 rows x 27 columns]"
      ]
     },
     "execution_count": 7,
     "metadata": {},
     "output_type": "execute_result"
    }
   ],
   "source": [
    "# rename columns\n",
    "df = df.rename(columns = {'loannr_chkdgt': 'loan_id',\n",
    " 'bankstate':'bank_state',\n",
    " 'approvaldate':'appv_date',\n",
    " 'approvalfy': 'appv_fy',\n",
    "    'noemp':'emp_num',\n",
    " 'newexist': 'new_existing',\n",
    " 'createjob': 'jobs_created',\n",
    " 'retainedjob': 'jobs_retained',\n",
    " 'franchisecode': 'franchise_code',\n",
    " 'urbanrural': 'urban_rural',\n",
    " 'revlinecr': 'rev_credit',\n",
    " 'lowdoc': 'low_doc',\n",
    " 'chgoffdate': 'default_date' ,\n",
    " 'disbursementdate': 'disbursement_date',\n",
    " 'disbursementgross': 'disbursement_gross',\n",
    " 'balancegross': 'outstanding_gross',\n",
    " 'mis_status': 'loan_status',\n",
    " 'chgoffpringr': 'default_amount',\n",
    " 'grappv': 'appv_loan_amount',\n",
    " 'sba_appv': 'sba_appv_amount'})\n",
    "df.head()"
   ]
  },
  {
   "cell_type": "code",
   "execution_count": 10,
   "id": "cd21d234",
   "metadata": {},
   "outputs": [
    {
     "data": {
      "text/plain": [
       "loan_id                        int64\n",
       "name                          object\n",
       "city                          object\n",
       "state                         object\n",
       "zip                            int64\n",
       "bank                          object\n",
       "bank_state                    object\n",
       "naics                          int64\n",
       "appv_date             datetime64[ns]\n",
       "appv_fy                       object\n",
       "term                           int64\n",
       "emp_num                        int64\n",
       "new_existing                 float64\n",
       "jobs_created                   int64\n",
       "jobs_retained                  int64\n",
       "franchise_code                 int64\n",
       "urban_rural                    int64\n",
       "rev_credit                    object\n",
       "low_doc                       object\n",
       "default_date                  object\n",
       "disbursement_date             object\n",
       "disbursement_gross            object\n",
       "outstanding_gross             object\n",
       "loan_status                   object\n",
       "default_amount                object\n",
       "appv_loan_amount              object\n",
       "sba_appv_amount               object\n",
       "dtype: object"
      ]
     },
     "execution_count": 10,
     "metadata": {},
     "output_type": "execute_result"
    }
   ],
   "source": [
    "df = df.astype({'appv_date':'datetime64'})"
   ]
  },
  {
   "cell_type": "code",
   "execution_count": 11,
   "id": "6ae72ccb",
   "metadata": {},
   "outputs": [
    {
     "data": {
      "text/plain": [
       "(Timestamp('1972-02-01 00:00:00'), Timestamp('2071-12-20 00:00:00'))"
      ]
     },
     "execution_count": 11,
     "metadata": {},
     "output_type": "execute_result"
    }
   ],
   "source": [
    "# show min and max date\n",
    "df.appv_date.min(), df.appv_date.max() # max date is is input error"
   ]
  },
  {
   "cell_type": "code",
   "execution_count": 26,
   "id": "cdc5ba90",
   "metadata": {},
   "outputs": [
    {
     "data": {
      "text/plain": [
       "675230   2014-06-25\n",
       "674907   2014-06-23\n",
       "674606   2014-06-19\n",
       "674448   2014-06-18\n",
       "673911   2014-06-12\n",
       "            ...    \n",
       "27043    1972-03-07\n",
       "104880   1972-03-02\n",
       "2005     1972-02-25\n",
       "58428    1972-02-25\n",
       "26101    1972-02-01\n",
       "Name: appv_date, Length: 899117, dtype: datetime64[ns]"
      ]
     },
     "execution_count": 26,
     "metadata": {},
     "output_type": "execute_result"
    }
   ],
   "source": [
    "# find the most recent date\n",
    "df[df.appv_date < '2022'].appv_date.sort_values(ascending=False) # most recent year is 2014"
   ]
  },
  {
   "cell_type": "markdown",
   "id": "f5e2de39",
   "metadata": {},
   "source": [
    "<hr style=\"border:2px solid blue\"> </hr>\n",
    "\n",
    "## Univariate Exploration"
   ]
  },
  {
   "cell_type": "code",
   "execution_count": null,
   "id": "a6624102",
   "metadata": {},
   "outputs": [],
   "source": [
    "# show value counts for each column, does not include nulls\n",
    "for col in df.columns:\n",
    "    print(f'-------------{col}-----------------')\n",
    "    print(df[df[col].notna()][col].value_counts(dropna=False))"
   ]
  },
  {
   "cell_type": "code",
   "execution_count": null,
   "id": "78eb23a4",
   "metadata": {},
   "outputs": [],
   "source": [
    "df.shape"
   ]
  },
  {
   "cell_type": "markdown",
   "id": "d0867167",
   "metadata": {},
   "source": [
    "### Notes:\n",
    "- LA and Houston have the most loans\n",
    "- CA has the most loans\n",
    "- Bank of America and Wells Fargo have the most loans\n",
    "- naics code as zero. investigate \n",
    "- Continuos Columns: term, jobs_created, jobs_retained, dispursement_gross, outstanding_gross, default_amount, appv_loan_amount, sba_appv_amount \n",
    "- Categorical Columns: new_existing, urban_rural, loan_status, \n",
    "- Investigate Further: rev_credit, low_doc, "
   ]
  },
  {
   "cell_type": "code",
   "execution_count": null,
   "id": "147bbac4",
   "metadata": {},
   "outputs": [],
   "source": [
    "# investiage naics code zero. Looks spread across locations\n",
    "df[df.naics== 0].state.value_counts()"
   ]
  },
  {
   "cell_type": "code",
   "execution_count": null,
   "id": "06d1d79a",
   "metadata": {},
   "outputs": [],
   "source": [
    "# checking the rows with naics as zero show that maybe it isolated to older loans\n",
    "df[df.naics== 0].appv_fy.value_counts().index"
   ]
  },
  {
   "cell_type": "markdown",
   "id": "32b93a97",
   "metadata": {},
   "source": [
    "### Notes:\n",
    "- naics of 0 probably means that the collection was faulty earlier and got better over time. Not limited to location. Keeping column for now."
   ]
  },
  {
   "cell_type": "markdown",
   "id": "da6f46d8",
   "metadata": {},
   "source": [
    "<hr style=\"border:2px solid blue\"> </hr>\n",
    "\n",
    "## Nulls"
   ]
  },
  {
   "cell_type": "code",
   "execution_count": null,
   "id": "166b7572",
   "metadata": {},
   "outputs": [],
   "source": [
    "# check for nulls\n",
    "df.isna().sum().sort_values(ascending=False)"
   ]
  },
  {
   "cell_type": "markdown",
   "id": "5557a594",
   "metadata": {},
   "source": [
    "### Notes:\n",
    "- default_date colum has too many nulls. Need to drop\n",
    "- drop the rest"
   ]
  },
  {
   "cell_type": "code",
   "execution_count": null,
   "id": "d8d00b43",
   "metadata": {},
   "outputs": [],
   "source": [
    "# drop column default_date\n",
    "df = df.drop(columns='default_date')\n",
    "df.columns"
   ]
  },
  {
   "cell_type": "code",
   "execution_count": null,
   "id": "82411eaf",
   "metadata": {},
   "outputs": [],
   "source": [
    "# drop the rest of the nulls\n",
    "df = df.dropna()\n",
    "df.shape"
   ]
  },
  {
   "cell_type": "markdown",
   "id": "d3170f18",
   "metadata": {},
   "source": [
    "<hr style=\"border:2px solid blue\"> </hr>\n",
    "\n",
    "## Duplicates"
   ]
  },
  {
   "cell_type": "code",
   "execution_count": null,
   "id": "7dc30105",
   "metadata": {},
   "outputs": [],
   "source": [
    "# find any duplicates in the df\n",
    "df[df.duplicated(subset=['loan_id'], keep=False)]"
   ]
  },
  {
   "cell_type": "markdown",
   "id": "4bae6513",
   "metadata": {},
   "source": [
    "<hr style=\"border:2px solid blue\"> </hr>\n",
    "\n",
    "## Adjust Data Types"
   ]
  },
  {
   "cell_type": "code",
   "execution_count": null,
   "id": "c2569062",
   "metadata": {},
   "outputs": [],
   "source": [
    "df.appv_loan_amount.str.replace('$','').str.replace(',','_')"
   ]
  },
  {
   "cell_type": "code",
   "execution_count": null,
   "id": "34032f42",
   "metadata": {},
   "outputs": [],
   "source": [
    "df.appv_loan_amount"
   ]
  },
  {
   "cell_type": "code",
   "execution_count": null,
   "id": "865b5964",
   "metadata": {},
   "outputs": [],
   "source": [
    "# select columns to change\n",
    "cols = ['disbursement_gross','outstanding_gross','default_amount','appv_loan_amount','sba_appv_amount']"
   ]
  },
  {
   "cell_type": "code",
   "execution_count": null,
   "id": "b06ef039",
   "metadata": {},
   "outputs": [],
   "source": [
    "# remove $ and , from money columns\n",
    "for col in cols:\n",
    "    df[col] = df[col].str.replace('$','').str.replace(',','_')"
   ]
  },
  {
   "cell_type": "code",
   "execution_count": null,
   "id": "7f689011",
   "metadata": {},
   "outputs": [],
   "source": [
    "df.appv_loan_amount"
   ]
  },
  {
   "cell_type": "code",
   "execution_count": null,
   "id": "825ee2f3",
   "metadata": {},
   "outputs": [],
   "source": [
    "# replace 1976A to 1976 to enable datetime converstion\n",
    "df.appv_fy = df.appv_fy.replace({'1976A':'1976'})"
   ]
  },
  {
   "cell_type": "code",
   "execution_count": null,
   "id": "a0a95b73",
   "metadata": {},
   "outputs": [],
   "source": [
    "# confirm change\n",
    "df[df.appv_fy == '1976A']"
   ]
  },
  {
   "cell_type": "code",
   "execution_count": null,
   "id": "4f279cda",
   "metadata": {},
   "outputs": [],
   "source": [
    "# change dtypes for date columns and money columns\n",
    "df = df.astype({'appv_date':'datetime64',\n",
    "          'appv_fy':'datetime64',\n",
    "          'disbursement_date':'datetime64',\n",
    "          'disbursement_gross': float,\n",
    "          'outstanding_gross': float,\n",
    "           'default_amount': float,\n",
    "           'appv_loan_amount': float,\n",
    "           'sba_appv_amount': float})\n",
    "df.head()"
   ]
  },
  {
   "cell_type": "code",
   "execution_count": null,
   "id": "24257b4f",
   "metadata": {
    "scrolled": true
   },
   "outputs": [],
   "source": [
    "df.dtypes"
   ]
  },
  {
   "cell_type": "code",
   "execution_count": null,
   "id": "e9d764df",
   "metadata": {
    "scrolled": true
   },
   "outputs": [],
   "source": [
    "df.head()"
   ]
  },
  {
   "cell_type": "markdown",
   "id": "f419eccf",
   "metadata": {},
   "source": [
    "<hr style=\"border:2px solid blue\"> </hr>\n",
    "\n",
    "## <font color = 'red'> Adjust Column Values for Readability and Analysis"
   ]
  },
  {
   "cell_type": "markdown",
   "id": "4ff0f169",
   "metadata": {},
   "source": [
    "### Change Loan Status Columsn Values to default or paid"
   ]
  },
  {
   "cell_type": "code",
   "execution_count": null,
   "id": "2b9692ab",
   "metadata": {},
   "outputs": [],
   "source": [
    "df.loan_status.unique()"
   ]
  },
  {
   "cell_type": "code",
   "execution_count": null,
   "id": "ef9e4f9b",
   "metadata": {},
   "outputs": [],
   "source": [
    "# change loan_status values from PIF to paid and CHGOFF to default for readability\n",
    "df.loan_status = df.loan_status.map({'P I F':'paid','CHGOFF':'default'})"
   ]
  },
  {
   "cell_type": "code",
   "execution_count": null,
   "id": "6c9d5c05",
   "metadata": {},
   "outputs": [],
   "source": [
    "df.loan_status.unique()"
   ]
  },
  {
   "cell_type": "markdown",
   "id": "c3bc0207",
   "metadata": {},
   "source": [
    "### Change Disbursement Date, Approval Date Columns Values to below 2020 to remove outliers for better analyisis"
   ]
  },
  {
   "cell_type": "code",
   "execution_count": null,
   "id": "25b924c5",
   "metadata": {},
   "outputs": [],
   "source": [
    "# remove outlier from column disbursement_date for better analysis\n",
    "df = df[df.disbursement_date < '2020']"
   ]
  },
  {
   "cell_type": "code",
   "execution_count": null,
   "id": "2ed4ec35",
   "metadata": {},
   "outputs": [],
   "source": [
    "# remove outlier from column appv_date for better analysis\n",
    "df = df[df.appv_date < '2020']"
   ]
  },
  {
   "cell_type": "code",
   "execution_count": null,
   "id": "15c76a35",
   "metadata": {},
   "outputs": [],
   "source": [
    "df.shape"
   ]
  },
  {
   "cell_type": "markdown",
   "id": "4ee4745a",
   "metadata": {},
   "source": [
    "### Drop Column Oustanding Gross Since Most Are Zero"
   ]
  },
  {
   "cell_type": "code",
   "execution_count": null,
   "id": "6a645a33",
   "metadata": {},
   "outputs": [],
   "source": [
    "# drop column oustanding_gross since most are zero\n",
    "df = df.drop(columns='outstanding_gross')\n",
    "df.head()"
   ]
  },
  {
   "cell_type": "code",
   "execution_count": null,
   "id": "b9b7154b",
   "metadata": {},
   "outputs": [],
   "source": [
    "# create new column is_new where new is is assigned as 1 and everthing else is 0\n",
    "df['is_new'] = np.where(df.new_existing==2, 1, 0)\n",
    "df.head()"
   ]
  },
  {
   "cell_type": "code",
   "execution_count": null,
   "id": "f58020f3",
   "metadata": {},
   "outputs": [],
   "source": [
    "df.head()"
   ]
  },
  {
   "cell_type": "code",
   "execution_count": null,
   "id": "297bbe99",
   "metadata": {},
   "outputs": [],
   "source": [
    "df.shape"
   ]
  },
  {
   "cell_type": "markdown",
   "id": "e11408d1",
   "metadata": {},
   "source": [
    "<hr style=\"border:2px solid blue\"> </hr>\n",
    "\n",
    "## <font color = 'red'>Outliers"
   ]
  },
  {
   "cell_type": "code",
   "execution_count": null,
   "id": "1cbf96ac",
   "metadata": {},
   "outputs": [],
   "source": [
    "# Create list of continous columns to investigate/viz\n",
    "cols = ['emp_num',\n",
    "        'jobs_created',\n",
    "        'jobs_retained',\n",
    "        'disbursement_gross',\n",
    "        'appv_loan_amount',\n",
    "        'sba_appv_amount',\n",
    "        'term'\n",
    "       ]"
   ]
  },
  {
   "cell_type": "markdown",
   "id": "f70fd3e6",
   "metadata": {},
   "source": [
    "### Columns with Skew:\n",
    "- disbursment_gross\n",
    "- appv_loan_amount\n",
    "- sba_appv_amount"
   ]
  },
  {
   "cell_type": "code",
   "execution_count": null,
   "id": "3502321b",
   "metadata": {},
   "outputs": [],
   "source": [
    "plt.figure(figsize=(15, 5))\n",
    "\n",
    "for i, col in enumerate(cols,1):\n",
    "\n",
    "    # i starts at 0, but plot nos should start at 1\n",
    "    plot_number = i\n",
    "\n",
    "    # Create subplot.\n",
    "    plt.subplot(1, len(cols), plot_number)\n",
    "\n",
    "    # Title with column name.\n",
    "    plt.title(col)\n",
    "\n",
    "    # Display histogram for column.\n",
    "    df[col].hist()\n",
    "\n",
    "    # Hide gridlines.\n",
    "    plt.grid(False)\n",
    "    \n",
    "    # turn off scientific notation\n",
    "    #plt.ticklabel_format(useOffset=False)\n",
    "    \n",
    "plt.show()"
   ]
  },
  {
   "cell_type": "code",
   "execution_count": null,
   "id": "176322d0",
   "metadata": {
    "scrolled": true
   },
   "outputs": [],
   "source": [
    "# List of columns\n",
    "        \n",
    "plt.figure(figsize=(16, 20))\n",
    "\n",
    "for i, col in enumerate(cols, 1):\n",
    "\n",
    "    # i starts at 0, but plot nos should start at 1\n",
    "    plot_number = i\n",
    "\n",
    "    # Create subplot.\n",
    "    plt.subplot(1, len(cols), plot_number)\n",
    "\n",
    "    # Title with column name.\n",
    "    plt.title(col)\n",
    "\n",
    "    # Display boxplot for column.\n",
    "    sns.boxplot(data=df[[col]])\n",
    "\n",
    "    # Hide gridlines.\n",
    "    plt.grid(False)\n",
    "    \n",
    "    # sets proper spacing between plots\n",
    "    plt.tight_layout()\n",
    "\n",
    "plt.show()"
   ]
  },
  {
   "cell_type": "code",
   "execution_count": null,
   "id": "ba731f2e",
   "metadata": {},
   "outputs": [],
   "source": [
    "df.shape"
   ]
  },
  {
   "cell_type": "code",
   "execution_count": null,
   "id": "54a2c3a9",
   "metadata": {},
   "outputs": [],
   "source": [
    "# remove outliers from each column in cols_list\n",
    "for col in cols:\n",
    "\n",
    "    q1, q3 = df[col].quantile([.25, .75])  # get quartiles\n",
    "\n",
    "    iqr = q3 - q1   # calculate interquartile range\n",
    "\n",
    "    upper_bound = q3 + 2 * iqr   # get upper bound\n",
    "    lower_bound = q1 - 2 * iqr   # get lower bound\n",
    "\n",
    "    # return dataframe without outliers\n",
    "\n",
    "    df = df[(df[col] > lower_bound) & (df[col] < upper_bound)]"
   ]
  },
  {
   "cell_type": "code",
   "execution_count": null,
   "id": "4034bc1f",
   "metadata": {},
   "outputs": [],
   "source": [
    "df.shape"
   ]
  },
  {
   "cell_type": "code",
   "execution_count": null,
   "id": "6710f567",
   "metadata": {},
   "outputs": [],
   "source": [
    "# List of columns\n",
    "        \n",
    "plt.figure(figsize=(16, 20))\n",
    "\n",
    "for i, col in enumerate(cols, 1):\n",
    "\n",
    "    # i starts at 0, but plot nos should start at 1\n",
    "    plot_number = i\n",
    "\n",
    "    # Create subplot.\n",
    "    plt.subplot(1, len(cols), plot_number)\n",
    "\n",
    "    # Title with column name.\n",
    "    plt.title(col)\n",
    "\n",
    "    # Display boxplot for column.\n",
    "    sns.boxplot(data=df[[col]])\n",
    "\n",
    "    # Hide gridlines.\n",
    "    plt.grid(False)\n",
    "    \n",
    "    # sets proper spacing between plots\n",
    "    plt.tight_layout()\n",
    "\n"
   ]
  },
  {
   "cell_type": "markdown",
   "id": "143b43fc",
   "metadata": {},
   "source": [
    "<hr style=\"border:2px solid blue\"> </hr>\n",
    "\n",
    "## Feature Engineering - Unexplored Data"
   ]
  },
  {
   "cell_type": "code",
   "execution_count": null,
   "id": "1b06b31a",
   "metadata": {},
   "outputs": [],
   "source": [
    "# add ratio column for sba approved amount over bank approved amount\n",
    "df['sba_percent'] = df.sba_appv_amount / df.appv_loan_amount"
   ]
  },
  {
   "cell_type": "code",
   "execution_count": null,
   "id": "a0d7d9f2",
   "metadata": {},
   "outputs": [],
   "source": [
    "# add ratio column for appv_loan_amount by term 'monthly_debt'\n",
    "df['monthly_debt'] = round((df.appv_loan_amount / df.term), 2)"
   ]
  },
  {
   "cell_type": "code",
   "execution_count": null,
   "id": "d0680af7",
   "metadata": {},
   "outputs": [],
   "source": [
    "# create column for jobs count by adding job created and jobs retained\n",
    "df['jobs_count'] = (df.jobs_created + df.jobs_retained)"
   ]
  },
  {
   "cell_type": "code",
   "execution_count": null,
   "id": "d89aacf7",
   "metadata": {
    "scrolled": true
   },
   "outputs": [],
   "source": [
    "# created columns for modeling\n",
    "df['is_default'] = df.loan_status.map({'default':1, 'paid':0})"
   ]
  },
  {
   "cell_type": "code",
   "execution_count": null,
   "id": "d0f9ce73",
   "metadata": {},
   "outputs": [],
   "source": [
    "df.shape"
   ]
  },
  {
   "cell_type": "markdown",
   "id": "c2a2f0cb",
   "metadata": {},
   "source": [
    "<hr style=\"border:2px solid blue\"> </hr>\n",
    "\n",
    "# <font color = 'red'> Explore"
   ]
  },
  {
   "cell_type": "markdown",
   "id": "b55584cd",
   "metadata": {},
   "source": [
    "## Split"
   ]
  },
  {
   "cell_type": "code",
   "execution_count": null,
   "id": "80ddb2ff",
   "metadata": {},
   "outputs": [],
   "source": [
    "# split data set. This function splits the telco data into the train, validate, and test samples at portions: train= 56%, validate= 24%, test = 20%\n",
    "train_validate, test = train_test_split(df, test_size=.2, random_state=123, stratify=df.is_default)\n",
    "train, validate = train_test_split(train_validate, test_size=.3, random_state=123, stratify=train_validate.is_default)\n",
    "train.shape, validate.shape, test.shape"
   ]
  },
  {
   "cell_type": "markdown",
   "id": "a6235c91",
   "metadata": {},
   "source": [
    "## Multi-Variate Exploration\n",
    "\n",
    "### Initial Questions to Ask\n",
    "- Are there more defaulted loans?\n",
    "- What term lengths are common for defaulted loans?\n",
    "- What is the timeline of default loans vs non-default loans\n",
    "- In what industries do loan defaults occur most?\n",
    "- In what locations do loan defaults occur most"
   ]
  },
  {
   "cell_type": "markdown",
   "id": "9a9b7fb6",
   "metadata": {},
   "source": [
    "### Question 1: Are there more defaulted loans than paid loans?"
   ]
  },
  {
   "cell_type": "code",
   "execution_count": null,
   "id": "79a60476",
   "metadata": {},
   "outputs": [],
   "source": [
    "# create dataframe that groups by loan_status and counts each row\n",
    "loan_status = pd.DataFrame(train.groupby('loan_status').loan_id.count()).reset_index().rename(columns={'loan_id':'loan_count'})\n",
    "loan_status"
   ]
  },
  {
   "cell_type": "code",
   "execution_count": null,
   "id": "1f2f45be",
   "metadata": {},
   "outputs": [],
   "source": [
    "# plot loan count by loan status\n",
    "plt.figure(figsize=(15,5))\n",
    "sns.barplot(data=loan_status, x='loan_status', y='loan_count')\n",
    "plt.title('There are less Defaulted Loans than Paid Off?')\n",
    "plt.xlabel('Loan Count')\n",
    "plt.ylabel('Loan Status')\n",
    "plt.show()"
   ]
  },
  {
   "cell_type": "markdown",
   "id": "d1a19f97",
   "metadata": {},
   "source": [
    "### Notes:\n",
    "- There are mode paid-off loans then defaulted loans\n",
    "\n",
    "### Question 2: What term lengths are common for defaulted loans?"
   ]
  },
  {
   "cell_type": "code",
   "execution_count": null,
   "id": "9efbb8d1",
   "metadata": {
    "scrolled": true
   },
   "outputs": [],
   "source": [
    "# Plot loan amount by term hue by loan status\n",
    "plt.figure(figsize=(15,5))\n",
    "sns.scatterplot(data=train, x='term', y='appv_loan_amount', hue='loan_status')\n",
    "plt.axvline(x=80, color='black')\n",
    "plt.title('Loans with Less Than 80 Months Term Have Higher Risk of Default?')\n",
    "plt.xlabel('Loan Term in Months')\n",
    "plt.ylabel('Approved Loan Amount')\n",
    "plt.show()"
   ]
  },
  {
   "cell_type": "markdown",
   "id": "72305fe8",
   "metadata": {},
   "source": [
    "### Notes:\n",
    "- Most loans are below 300K amount and 140 month term\n",
    "- Defaults seem to appear most under 80 month term\n",
    "- Test with Stats that \n",
    "\n",
    "### Question 3: What is the timeline for default loans?"
   ]
  },
  {
   "cell_type": "code",
   "execution_count": null,
   "id": "92883ea0",
   "metadata": {},
   "outputs": [],
   "source": [
    "# Plot Loan Disbursement Date by Disburment Gross hue by Loan Status\n",
    "plt.figure(figsize=(15,5))\n",
    "sns.scatterplot(data=train, x='disbursement_date', y='disbursement_gross', hue='loan_status')\n",
    "plt.title('Defaulted Loans Align with Economic Recession')\n",
    "plt.xlabel('Disbursement Date')\n",
    "plt.ylabel('Disbursement Amount')\n",
    "plt.show()"
   ]
  },
  {
   "cell_type": "markdown",
   "id": "6bb99a80",
   "metadata": {},
   "source": [
    "### Notes:\n",
    "- majorithy of loan defaults occured for loans disbursed prior to 1990. linked to 1991 recession where GDP growth was -2.9%.\n",
    "- Loan defaults spiked again around the 2009 recession when GDP growth was -2.6%. \n",
    "- Unsure why majority of loans defaults prior to 1990\n",
    "\n",
    "### Question 3A: What is the loan approval timeline for loans that defaulted?"
   ]
  },
  {
   "cell_type": "code",
   "execution_count": null,
   "id": "ba255d8f",
   "metadata": {},
   "outputs": [],
   "source": [
    "# Plot Loan Approval Date by Loan Disbrursement Gross hue by Loan Status\n",
    "plt.figure(figsize=(15,5))\n",
    "sns.scatterplot(data=train, x='appv_date', y='disbursement_gross', hue='loan_status')\n",
    "plt.title('Loans Overtime by Status')\n",
    "plt.xlabel('Loan Approval Date')\n",
    "plt.ylabel('Loaon Disbursement Gross')\n",
    "plt.show()"
   ]
  },
  {
   "cell_type": "markdown",
   "id": "6a2b1291",
   "metadata": {},
   "source": [
    "### Notes:\n",
    "- No significant changes between appv_date and disbursement_date\n",
    "\n",
    "### Question 3B: What is the timeline of defaulted loans after 1990"
   ]
  },
  {
   "cell_type": "code",
   "execution_count": null,
   "id": "319eb346",
   "metadata": {},
   "outputs": [],
   "source": [
    "# Plot Defaults with Loan Approval Data and Loan Disbursement Gross for loan approved after 1990\n",
    "defaults_1990 = train[train.appv_date >= '1990']\n",
    "plt.figure(figsize=(15,5))\n",
    "sns.scatterplot(data=defaults_1990, x='appv_date', y='disbursement_gross', hue='loan_status')\n",
    "plt.title('Default Timeline Aligns with Economic Recession')\n",
    "plt.xlabel('Loan Approval Date')\n",
    "plt.ylabel('Loan Disbursement Gross')\n",
    "plt.show()"
   ]
  },
  {
   "cell_type": "markdown",
   "id": "25cf82cf",
   "metadata": {},
   "source": [
    "### Notes:\n",
    "- Defaults do not seem to align with loan amount. They do align with economic recession which happend \n",
    "\n",
    "### Question 4: In what industries do loan defaults occur most?"
   ]
  },
  {
   "cell_type": "code",
   "execution_count": null,
   "id": "0f0e23d2",
   "metadata": {},
   "outputs": [],
   "source": [
    "# create dataframe that groups by naics and loan status then counts each loan\n",
    "naics_df = pd.DataFrame(train.groupby(['naics','loan_status']).loan_id.count()).reset_index().rename(columns={'loan_id':'loan_count'})\n",
    "naics_df.head()"
   ]
  },
  {
   "cell_type": "code",
   "execution_count": null,
   "id": "ae9f9644",
   "metadata": {},
   "outputs": [],
   "source": [
    "# filter dataframe to remove naics 0 and include counts > 500\n",
    "naics_df = naics_df[(naics_df.naics > 0) & (naics_df.loan_count > 500) & (naics_df.loan_status == 'default')]\n",
    "naics_df.head()"
   ]
  },
  {
   "cell_type": "code",
   "execution_count": null,
   "id": "cc3bd399",
   "metadata": {},
   "outputs": [],
   "source": [
    "# plot default count by naics and mark average horizonal line\n",
    "plt.figure(figsize=(15,5))\n",
    "sns.barplot(data=naics_df, x='naics', y='loan_count', hue='loan_status')\n",
    "plt.axhline(y=naics_df.loan_count.mean(), color='black', label='Avg Count')\n",
    "plt.title('Restaurants and General Automotive Have Most Defaults')\n",
    "plt.ylabel('Default Count')\n",
    "plt.xlabel('NAICS Code')\n",
    "plt.show()"
   ]
  },
  {
   "cell_type": "markdown",
   "id": "c9c341a0",
   "metadata": {},
   "source": [
    "### Notes:\n",
    "- Top 3 NAICS that have highest count of defaults are 722110, 722211, and 811111\n",
    "- NAICS 722110: Full Service Restaurant ref(https://www.census.gov/prod/ec02/parts/ec0272i02ab.pdf)\n",
    "- NAICS 722211: Limit Service Restaurant ref(https://www.census.gov/prod/ec02/parts/ec0272i02ab.pdf)\n",
    "- NAICS 811111: General Automotive Repaire ref(https://www.naics.com/naics-code-description/?code=811111)\n",
    "- These three sectors are above ovarall mean. \n",
    "- Test with Stats\n",
    "\n",
    "### Question 5: In what states do loan defaults occur most?"
   ]
  },
  {
   "cell_type": "code",
   "execution_count": null,
   "id": "9bbcf101",
   "metadata": {},
   "outputs": [],
   "source": [
    "# plot default count by state\n",
    "default_df = train[train.loan_status=='default']\n",
    "default_state = pd.DataFrame(default_df.groupby('state').loan_status.count()).reset_index().rename(columns={'loan_status':'default_count'}).sort_values('default_count', ascending=False)\n",
    "default_state.head()"
   ]
  },
  {
   "cell_type": "code",
   "execution_count": null,
   "id": "f9e9a9e0",
   "metadata": {},
   "outputs": [],
   "source": [
    "# plot defaults by state with an average horizontal line\n",
    "plt.figure(figsize=(15,5))\n",
    "sns.barplot(data=default_state, x='state', y='default_count')\n",
    "plt.axhline(y=default_state.default_count.mean(), color='black', label='Avg Count')\n",
    "plt.title('Default Counts by State')\n",
    "plt.ylabel('Default Counts')\n",
    "plt.xlabel('State')\n",
    "plt.show()"
   ]
  },
  {
   "cell_type": "markdown",
   "id": "ca6aa0e6",
   "metadata": {},
   "source": [
    "### Notes:\n",
    "- CA has the most, it almost doubles the next largest count of NY\n",
    "- 14 state are above average default: CA, NY, TX, FL, IL, GA, OH, PA, NJ, MI, CO, WA, UT, MA\n",
    "- Test with Stats\n",
    "\n",
    "### Question 5A: What are the defaults by State for loans dispursed after 1990"
   ]
  },
  {
   "cell_type": "code",
   "execution_count": null,
   "id": "1a59cc8c",
   "metadata": {},
   "outputs": [],
   "source": [
    "# create df for disbursement date > 1990\n",
    "train_1990 = train[train.disbursement_date > '1990']\n",
    "train_1990 = pd.DataFrame(train_1990.groupby('state').loan_status.count()).reset_index().rename(columns={'loan_status':'default_count'}).sort_values('default_count', ascending=False)\n",
    "train_1990.head()"
   ]
  },
  {
   "cell_type": "code",
   "execution_count": null,
   "id": "2b848ed5",
   "metadata": {},
   "outputs": [],
   "source": [
    "# plot defaults by state for loans approved after 1990\n",
    "plt.figure(figsize=(15,5))\n",
    "sns.barplot(data=train_1990, x='state', y='default_count')\n",
    "plt.axhline(y=train_1990.default_count.mean(), color='black', label='Avg Count')\n",
    "plt.title('Default Counts by State for Loans approved after 1990')\n",
    "plt.ylabel('Default Counts')\n",
    "plt.xlabel('State')\n",
    "plt.show()"
   ]
  },
  {
   "cell_type": "markdown",
   "id": "d2e499ce",
   "metadata": {},
   "source": [
    "### Notes:\n",
    "- CA has the most defaults.\n",
    "- 17 States with default count higher than the overall average: CA, NY, TX, FL, PA, OH, IL, MA, WA, NJ, MN, MO, MI, GA, WI, CO, UT. Higher count than previous. Top 4 are the same.\n",
    "- Test with Stats\n",
    "\n",
    "### Question 5B: What are the default percentages by state (defaulted / total loans)"
   ]
  },
  {
   "cell_type": "code",
   "execution_count": null,
   "id": "07dc4193",
   "metadata": {},
   "outputs": [],
   "source": [
    "# create df for defaults pecentage by state\n",
    "default_state_percent = pd.DataFrame(train.groupby('state').is_default.sum()).reset_index()\n",
    "default_state_percent['total'] = train.groupby('state').is_default.count().values\n",
    "default_state_percent['percent'] = round((default_state_percent.is_default / default_state_percent.total) * 100, 2)\n",
    "default_state_percent = default_state_percent.sort_values('percent', ascending=False)\n",
    "default_state_percent.head()"
   ]
  },
  {
   "cell_type": "code",
   "execution_count": null,
   "id": "bc64bbc8",
   "metadata": {},
   "outputs": [],
   "source": [
    "# plot defaults by state for loans approved after 1990\n",
    "plt.figure(figsize=(15,5))\n",
    "sns.barplot(data=default_state_percent, x='state', y='percent')\n",
    "plt.axhline(y=default_state_percent.percent.mean(), color='black', label='Avg Percent')\n",
    "plt.title('Default Percents by State')\n",
    "plt.ylabel('Default Percents')\n",
    "plt.xlabel('State')\n",
    "plt.show()"
   ]
  },
  {
   "cell_type": "markdown",
   "id": "da7fd25a",
   "metadata": {},
   "source": [
    "### Notes:\n",
    "- 24 States Above Avg: FL, GA, NV, AZ, MI, CA, DC, IL, NJ, TN, SC, CO, UT, NC, NY, VA, TX, AL, IN, MD, LA, KY, OR, OH\n",
    "\n",
    "### Question 6: Are there more defaults for business with less employess and less jobs?"
   ]
  },
  {
   "cell_type": "code",
   "execution_count": null,
   "id": "11abdb59",
   "metadata": {},
   "outputs": [],
   "source": [
    "# plot default count by state\n",
    "default_df = train[train.loan_status=='default']\n",
    "\n",
    "# plot defaults by emp_num and jobs_count\n",
    "plt.figure(figsize=(15,5))\n",
    "sns.scatterplot(data=default_df, x='emp_num', y='jobs_count', hue='loan_status')\n",
    "plt.title('Loans with Less than 10 Employees have Higher Risk of Default')\n",
    "plt.ylabel('Jobs Count')\n",
    "plt.xlabel('Employee Number')\n",
    "plt.show()"
   ]
  },
  {
   "cell_type": "markdown",
   "id": "afe7c42b",
   "metadata": {},
   "source": [
    "### Notes:\n",
    "- More defaults occur for low employee number. \n",
    "- More defaults occur with low jobs count and with high employee number. More employees with less jobs.\n",
    "- Stats Test with Chi2 if Emp Num and Jobs Count are independent. I think they are not independent\n",
    "\n",
    "### Question 7: Are there more defaults for loans with higher monthly debt and lower SBA covered percent?"
   ]
  },
  {
   "cell_type": "code",
   "execution_count": null,
   "id": "2488e1b3",
   "metadata": {
    "scrolled": true
   },
   "outputs": [],
   "source": [
    "# plot defaults for monthly debt by sba_percent\n",
    "plt.figure(figsize=(15,5))\n",
    "sns.scatterplot(data=train, x='sba_percent', y='monthly_debt', hue='loan_status')\n",
    "plt.axhline(y=5000, color='black')\n",
    "plt.title('Loans with Higher Monthly Debt have Higher Risk of Default')\n",
    "plt.ylabel('Monthly Debt')\n",
    "plt.xlabel('SBA Covered Percent')\n",
    "plt.show()"
   ]
  },
  {
   "cell_type": "markdown",
   "id": "1e1056a2",
   "metadata": {},
   "source": [
    "### Notes:\n",
    "- Most defaults seem to be above 5K monthly debt\n",
    "- SBA Covered percentage doesn't seem to indicate any differences\n",
    "\n",
    "### Question 7A: For Monthly Debt < 5K, Are there more defaults for loans with higher monthly debt and lower SBA covered percent?"
   ]
  },
  {
   "cell_type": "code",
   "execution_count": null,
   "id": "b076c0c3",
   "metadata": {},
   "outputs": [],
   "source": [
    "# plot SBA covered percentage by monthluy debt for monthly debt < 10,000 andh hue for loan status\n",
    "mo_debt_10k = train[train.monthly_debt < 5000]\n",
    "\n",
    "plt.figure(figsize=(15,5))\n",
    "sns.scatterplot(data=mo_debt_10k, x='sba_percent', y='monthly_debt', hue='loan_status')\n",
    "plt.title('Loans with More than $4K Monthly Debt have Higher Risk of Default')\n",
    "plt.ylabel('Monthly Debt')\n",
    "plt.xlabel('SBA Covered Percent')\n",
    "plt.show()"
   ]
  },
  {
   "cell_type": "markdown",
   "id": "a15b0f35",
   "metadata": {},
   "source": [
    "### Notes:\n",
    "- Majority of defaults occur with higher than 4K monthly debt\n",
    "- SBA Covered Percent doesn't show anything\n",
    "- Stats Test if defaults are higher with monthly debt over 3000\n",
    "\n",
    "## Exploration Summary:\n",
    "- Defaults seem to appear most under 80 month term\n",
    "- defaults overtime align with recession periods\n",
    "- High Risk NAICS are 722110, 722211, 811111\n",
    "- States with Largest Default Count: CA, NY, TX, FL, PA, OH, IL, MA, WA, NJ, MN, MO, MI, GA, WI, CO, UT\n",
    "- States with Largest Default Percent:  FL, GA, NV, AZ, MI, CA, DC, IL, NJ, TN, SC, CO, UT, NC, NY, VA, TX, AL, IN, MD, LA, KY, OR, OH\n",
    "    - Result: CA, FL, IL, NJ in top 10 of both categories\n",
    "- More defaults occur for low employee number.\n",
    "- Majority of defaults occur with higher than 3K monthly deb"
   ]
  },
  {
   "cell_type": "markdown",
   "id": "2d673530",
   "metadata": {},
   "source": [
    "<hr style=\"border:2px solid blue\"> </hr>\n",
    "\n",
    "## <font color = 'red'> Stats Test\n",
    "1. Question 2: Test if loans with term > 80 months had more defautls than otherwise\n",
    "2. Question 4: Test if top 4 naics have more defaults than overall average\n",
    "3. Question 5: Test if NY has more defaults than TX\n",
    "4. Question 6: Test if loans with with lower jobs count have more defaults than overal average"
   ]
  },
  {
   "cell_type": "markdown",
   "id": "37494abd",
   "metadata": {},
   "source": [
    "### Stats Test 1: From Question 2: Are loan terms ( < 80 or >= 80 ) independent of defaults?\n",
    "- H0: Loan term (less then 80 months or greater than 80 months) is INDEPENDENT of default status\n",
    "- HA: Loan term (less then 80 months or greater than 80 months) is NOT INDEPENDENT of default status"
   ]
  },
  {
   "cell_type": "code",
   "execution_count": null,
   "id": "8798c2d0",
   "metadata": {},
   "outputs": [],
   "source": [
    "# create new df for subgroups for loan with term < 80 mo and > 80 mo\n",
    "term_less_80 = train[['term','loan_status']]\n",
    "\n",
    "# set column for subgroup that is >= 80 mo term and default\n",
    "term_less_80['term_group'] = np.where(term_less_80.term < 80, 'less_80', 'more_80')\n",
    "term_less_80.head()"
   ]
  },
  {
   "cell_type": "code",
   "execution_count": null,
   "id": "bd2de59b",
   "metadata": {},
   "outputs": [],
   "source": [
    "# set observed crosstab for subgropus with less or more than 80 mo term\n",
    "observed = pd.crosstab(term_less_80.term_group, term_less_80.loan_status)\n",
    "observed"
   ]
  },
  {
   "cell_type": "code",
   "execution_count": null,
   "id": "e831f763",
   "metadata": {},
   "outputs": [],
   "source": [
    "# run chi2 test to compare subgroups\n",
    "chi2, p, degf, expected = stats.chi2_contingency(observed)\n",
    "\n",
    "print('Observed\\n')\n",
    "print(observed.values)\n",
    "print('---\\nExpected\\n')\n",
    "print(expected)\n",
    "print('---\\n')\n",
    "print(f'chi^2 = {chi2:.4f}')\n",
    "print(f'p     = {p:.4f}')"
   ]
  },
  {
   "cell_type": "markdown",
   "id": "5462ef64",
   "metadata": {},
   "source": [
    "### Notes:\n",
    "- P=0; Reject the null hypothesis\n",
    "- Loan term is NOT INDEPENDENT of defaults.\n",
    "- Term should be used for modeling\n",
    "\n",
    "### Stats Test 2: From Question 4: Are NAICS Independent of defaults? \n",
    "- HO: NAIC are INDEPENDENT of defaults\n",
    "- HA: NAIC are NOT INDEPENDENT of defaults"
   ]
  },
  {
   "cell_type": "code",
   "execution_count": null,
   "id": "e6976da9",
   "metadata": {},
   "outputs": [],
   "source": [
    "# set observed crosstab for all naic groups and loan status\n",
    "observed = pd.crosstab(train.naics, train.loan_status)\n",
    "observed.head()"
   ]
  },
  {
   "cell_type": "code",
   "execution_count": null,
   "id": "34f4bdd1",
   "metadata": {},
   "outputs": [],
   "source": [
    "# run chi2 test to compare subgroups\n",
    "chi2, p, degf, expected = stats.chi2_contingency(observed)\n",
    "\n",
    "print('Observed\\n')\n",
    "print(observed.values)\n",
    "print('---\\nExpected\\n')\n",
    "print(expected)\n",
    "print('---\\n')\n",
    "print(f'chi^2 = {chi2:.4f}')\n",
    "print(f'p     = {p:.4f}')"
   ]
  },
  {
   "cell_type": "markdown",
   "id": "b5ad50e9",
   "metadata": {},
   "source": [
    "### Notes:\n",
    "- P=0; Rejectd Null Hypothesis\n",
    "- NAIC are NOT INDEPENDENT of defaults (loan status)\n",
    "- NAIC should be used in modeling\n",
    "\n",
    "### Stats Test 2A: From Question 4: Are the Top 3 NAICS Defaulters Independent of defaults\n",
    "- H0: Top 3 NAICS Defaulters are INDEPENDENT of defaults\n",
    "- HA: Top 3 NAICS Defaulters are NOT INDEPENDENT of defaults"
   ]
  },
  {
   "cell_type": "code",
   "execution_count": null,
   "id": "ed38bb64",
   "metadata": {},
   "outputs": [],
   "source": [
    "# create new df subgroup column\n",
    "naics_test = train[['loan_status', 'naics']]\n",
    "naics_test = naics_test[(naics_test.naics==722110) | (naics_test.naics==722211) | (naics_test.naics==811111)]\n",
    "naics_test.head()"
   ]
  },
  {
   "cell_type": "code",
   "execution_count": null,
   "id": "2ce9aa4e",
   "metadata": {},
   "outputs": [],
   "source": [
    "# set observed crosstab for subgroups \n",
    "observed = pd.crosstab(naics_test.naics, naics_test.loan_status)\n",
    "observed"
   ]
  },
  {
   "cell_type": "code",
   "execution_count": null,
   "id": "7f1afa5f",
   "metadata": {},
   "outputs": [],
   "source": [
    "# run chi2 test to compare subgroups\n",
    "chi2, p, degf, expected = stats.chi2_contingency(observed)\n",
    "\n",
    "print('Observed\\n')\n",
    "print(observed.values)\n",
    "print('---\\nExpected\\n')\n",
    "print(expected)\n",
    "print('---\\n')\n",
    "print(f'chi^2 = {chi2:.4f}')\n",
    "print(f'p     = {p:.4f}')"
   ]
  },
  {
   "cell_type": "markdown",
   "id": "be2a68bb",
   "metadata": {},
   "source": [
    "### Notes:\n",
    "- P=0; Reject null hypothesis\n",
    "- Top 3 NAICS are NOT INDEPENDENT of default (loan status)\n",
    "- Use Top 3 NAICS in modeling\n",
    "\n",
    "### Stats Test 3: From Question 5: Are States Independent of Defaults?\n",
    "- H0: States are INDEPENDENT of defaults\n",
    "- HA: State are NOT INDEPENDENT of defaults"
   ]
  },
  {
   "cell_type": "code",
   "execution_count": null,
   "id": "672be652",
   "metadata": {},
   "outputs": [],
   "source": [
    "# set observed crosstab for states and loan statues\n",
    "observed = pd.crosstab(train.state, train.loan_status)\n",
    "observed.head()"
   ]
  },
  {
   "cell_type": "code",
   "execution_count": null,
   "id": "78b6b224",
   "metadata": {},
   "outputs": [],
   "source": [
    "# run chi2 test to compare groups\n",
    "chi2, p, degf, expected = stats.chi2_contingency(observed)\n",
    "\n",
    "print('Observed\\n')\n",
    "print(observed.values)\n",
    "print('---\\nExpected\\n')\n",
    "print(expected)\n",
    "print('---\\n')\n",
    "print(f'chi^2 = {chi2:.4f}')\n",
    "print(f'p     = {p:.4f}')"
   ]
  },
  {
   "cell_type": "markdown",
   "id": "9ebc56a5",
   "metadata": {},
   "source": [
    "### Notes:\n",
    "- P = 0; Reject Null Hypothesis. \n",
    "- States are NOT INDEPENDENT of defaults.\n",
    "- Use states in Modeling\n",
    "### Stats Test 3A: From Question 5: Are the Top 4 State Defaulters Indendent of Defaults?"
   ]
  },
  {
   "cell_type": "code",
   "execution_count": null,
   "id": "ddb795d4",
   "metadata": {},
   "outputs": [],
   "source": [
    "# create new df with subgroup column\n",
    "state_test = train[['loan_status', 'state']]\n",
    "state_test = state_test[(state_test.state == 'FL') | (state_test.state == 'GA') | (state_test.state == 'NV')]\n",
    "state_test.head()"
   ]
  },
  {
   "cell_type": "code",
   "execution_count": null,
   "id": "abcc8fa6",
   "metadata": {},
   "outputs": [],
   "source": [
    "# set observed crosstab for subgroups\n",
    "observed = pd.crosstab(state_test.state, state_test.loan_status)\n",
    "observed.head()"
   ]
  },
  {
   "cell_type": "code",
   "execution_count": null,
   "id": "ae9e394e",
   "metadata": {},
   "outputs": [],
   "source": [
    "# run chi2 test to compare subgroups\n",
    "chi2, p, degf, expected = stats.chi2_contingency(observed)\n",
    "\n",
    "print('Observed\\n')\n",
    "print(observed.values)\n",
    "print('---\\nExpected\\n')\n",
    "print(expected)\n",
    "print('---\\n')\n",
    "print(f'chi^2 = {chi2:.4f}')\n",
    "print(f'p     = {p:.4f}')"
   ]
  },
  {
   "cell_type": "markdown",
   "id": "9a8bfd45",
   "metadata": {},
   "source": [
    "### Notes:\n",
    "- P = 0; Reject Null Hypothesis. \n",
    "- Top 4 State Defaulters are NOT INDEPENDENT of defaults\n",
    "- Use Top 4 States in modeling\n",
    "\n",
    "### Stats Test 4: From Question 6: Is Employee Number (low / hight) Indpendent of Defaults?\n",
    "- H0: Employee number ( low <= 10 / high > 10) is INDEPENDENT of defaults\n",
    "- HA: Employee number ( low <= 10 / high > 10) is NOT INDEPENDENT of defaults"
   ]
  },
  {
   "cell_type": "code",
   "execution_count": null,
   "id": "0977c3d1",
   "metadata": {},
   "outputs": [],
   "source": [
    "# create new df with subgroup column\n",
    "emp_test = train[['loan_status', 'emp_num']]\n",
    "emp_test['emp_num_group'] = np.where(emp_test.emp_num <= 10, 'low','high') \n",
    "emp_test"
   ]
  },
  {
   "cell_type": "code",
   "execution_count": null,
   "id": "5530a1de",
   "metadata": {},
   "outputs": [],
   "source": [
    "# set observed crosstab for subgropus with <= 10 employees\n",
    "observed = pd.crosstab(emp_test.emp_num_group, emp_test.loan_status)\n",
    "observed"
   ]
  },
  {
   "cell_type": "code",
   "execution_count": null,
   "id": "933229af",
   "metadata": {},
   "outputs": [],
   "source": [
    "# run chi2 test to compare subgroups\n",
    "chi2, p, degf, expected = stats.chi2_contingency(observed)\n",
    "\n",
    "print('Observed\\n')\n",
    "print(observed.values)\n",
    "print('---\\nExpected\\n')\n",
    "print(expected)\n",
    "print('---\\n')\n",
    "print(f'chi^2 = {chi2:.4f}')\n",
    "print(f'p     = {p:.4f}')"
   ]
  },
  {
   "cell_type": "markdown",
   "id": "b1340209",
   "metadata": {},
   "source": [
    "### Notes:\n",
    "- P=0; Reject Null Hypothesis\n",
    "- Employee Number is NOT INDEPENDENT of defaults\n",
    "- Use employee number in modeling\n",
    "\n",
    "## Stats Summary\n",
    "- Use loan term, NAICS, State, and employee count for modeling"
   ]
  },
  {
   "cell_type": "markdown",
   "id": "c37e8683",
   "metadata": {},
   "source": [
    "<hr style=\"border:2px solid blue\"> </hr>\n",
    "\n",
    "## Feature Engineering Explored"
   ]
  },
  {
   "cell_type": "markdown",
   "id": "9fdbf26e",
   "metadata": {},
   "source": [
    "### Create column that lable the NAICS with above average defaults"
   ]
  },
  {
   "cell_type": "code",
   "execution_count": null,
   "id": "1752b094",
   "metadata": {},
   "outputs": [],
   "source": [
    "# make column where naics top defaulter are 1\n",
    "train['is_naics_defaulter'] = np.where(train.naics.isin([722110, 722211, 811111]), 1, 0)\n",
    "validate['is_naics_defaulter'] = np.where(validate.naics.isin([722110, 722211, 811111]), 1, 0)\n",
    "test['is_naics_defaulter'] = np.where(test.naics.isin([722110, 722211, 811111]), 1, 0)\n",
    "train.head()"
   ]
  },
  {
   "cell_type": "markdown",
   "id": "4526405a",
   "metadata": {},
   "source": [
    "### Create column that labels the 24 states that have above average default percentage"
   ]
  },
  {
   "cell_type": "code",
   "execution_count": null,
   "id": "1880c9c5",
   "metadata": {},
   "outputs": [],
   "source": [
    "# select states for new columns\n",
    "state_cols = ['FL', 'GA', 'NV', 'AZ', 'MI', 'CA', 'DC', 'IL', 'NJ', 'TN', 'SC', 'CO', 'UT', 'NC', 'NY', 'VA', 'TX', 'AL', 'IN','MD', 'LA', 'KY', 'OR', 'OH']"
   ]
  },
  {
   "cell_type": "code",
   "execution_count": null,
   "id": "276fc8ac",
   "metadata": {},
   "outputs": [],
   "source": [
    "# create new column that lables the states with highest percentage of defaulted loans\n",
    "train['is_state_defaulter'] = np.where(train.state.isin(state_cols), 1, 0)\n",
    "validate['is_state_defaulter'] = np.where(validate.state.isin(state_cols), 1, 0)\n",
    "test['is_state_defaulter'] = np.where(test.state.isin(state_cols), 1, 0)\n",
    "train.head()"
   ]
  },
  {
   "cell_type": "markdown",
   "id": "fd93f354",
   "metadata": {},
   "source": [
    "<hr style=\"border:2px solid blue\"> </hr>\n",
    "\n",
    "# <font color = 'red'> Pre-Processing"
   ]
  },
  {
   "cell_type": "markdown",
   "id": "51c2e26a",
   "metadata": {},
   "source": [
    "## Select Columns for Scaling and Modeling"
   ]
  },
  {
   "cell_type": "code",
   "execution_count": null,
   "id": "5fe3a212",
   "metadata": {},
   "outputs": [],
   "source": [
    "train.columns.to_list()"
   ]
  },
  {
   "cell_type": "code",
   "execution_count": null,
   "id": "541e14de",
   "metadata": {},
   "outputs": [],
   "source": [
    "# Select columns to scale for feature selection and modeling\n",
    "cols = [\n",
    "'term',\n",
    " 'emp_num',\n",
    " 'jobs_created',\n",
    " 'jobs_retained',\n",
    " 'appv_loan_amount',\n",
    " 'sba_appv_amount',\n",
    " 'is_new',\n",
    " 'sba_percent',\n",
    " 'monthly_debt',\n",
    " 'jobs_count',\n",
    " 'is_default',\n",
    " 'is_naics_defaulter',\n",
    " 'is_state_defaulter'\n",
    "]"
   ]
  },
  {
   "cell_type": "markdown",
   "id": "0099860a",
   "metadata": {},
   "source": [
    "## Adjust Columns for Scaling (Not Needed)"
   ]
  },
  {
   "cell_type": "markdown",
   "id": "03bf77a8",
   "metadata": {},
   "source": [
    "## Create y_train and X_train sets"
   ]
  },
  {
   "cell_type": "code",
   "execution_count": null,
   "id": "62caf3aa",
   "metadata": {},
   "outputs": [],
   "source": [
    "train[cols]"
   ]
  },
  {
   "cell_type": "code",
   "execution_count": null,
   "id": "e2956c62",
   "metadata": {},
   "outputs": [],
   "source": [
    "# establish target column\n",
    "target = 'is_default'\n",
    "\n",
    "# create X & y version of train, validate, test with y the target and X are the features. \n",
    "X_train = train[cols].drop(columns=[target])\n",
    "y_train = train[[target]]\n",
    "\n",
    "X_validate = validate[cols].drop(columns=[target])\n",
    "y_validate = validate[[target]]\n",
    "\n",
    "X_test = test[cols].drop(columns=[target])\n",
    "y_test = test[[target]]"
   ]
  },
  {
   "cell_type": "markdown",
   "id": "fc7d6e91",
   "metadata": {},
   "source": [
    "## Scale for Feature Selection\n",
    "- Feature Selection Used for Clustering"
   ]
  },
  {
   "cell_type": "code",
   "execution_count": null,
   "id": "6770a76d",
   "metadata": {},
   "outputs": [],
   "source": [
    "# Create the scale container\n",
    "scaler = sklearn.preprocessing.MinMaxScaler()\n",
    "\n",
    "# Fit the scaler to the features\n",
    "scaler.fit(X_train)\n",
    "\n",
    "# create scaled X versions \n",
    "X_train_scaled = scaler.transform(X_train)\n",
    "X_validate_scaled = scaler.transform(X_validate)\n",
    "X_test_scaled = scaler.transform(X_test)\n",
    "\n",
    "# Convert numpy array to pandas dataframe for feature Engineering\n",
    "X_train_scaled = pd.DataFrame(X_train_scaled, index=X_train.index, columns=X_train.columns.to_list())\n",
    "X_validate_scaled = pd.DataFrame(X_validate_scaled, index=X_validate.index, columns=X_validate.columns.to_list())\n",
    "X_test_scaled = pd.DataFrame(X_test_scaled, index=X_test.index, columns=X_test.columns.to_list())"
   ]
  },
  {
   "cell_type": "markdown",
   "id": "e5c343eb",
   "metadata": {},
   "source": [
    "## Feature Selection Using Select K Best"
   ]
  },
  {
   "cell_type": "code",
   "execution_count": null,
   "id": "dcc1b397",
   "metadata": {},
   "outputs": [],
   "source": [
    "from sklearn.feature_selection import SelectKBest, f_regression\n",
    "\n",
    "# Use f_regression stats test each column to find best 3 features\n",
    "f_selector = SelectKBest(f_regression, k=3)\n",
    "\n",
    "# find tthe best correlations with y\n",
    "f_selector.fit(X_train_scaled, y_train)\n",
    "\n",
    "# Creaet boolean mask of the selected columns. \n",
    "feature_mask = f_selector.get_support()\n",
    "\n",
    "# get list of top K features. \n",
    "f_feature = X_train_scaled.iloc[:,feature_mask].columns.tolist()\n",
    "\n",
    "f_feature"
   ]
  },
  {
   "cell_type": "markdown",
   "id": "5beca7af",
   "metadata": {},
   "source": [
    "### Notes:\n",
    "- Top 3 Features from Select K Best: term, jobs_retained, jobs_count\n",
    "\n",
    "## Feature Selection Using Recursive Feature Engineering"
   ]
  },
  {
   "cell_type": "code",
   "execution_count": null,
   "id": "b180a9ad",
   "metadata": {},
   "outputs": [],
   "source": [
    "from sklearn.linear_model import LinearRegression\n",
    "from sklearn.feature_selection import RFE\n",
    "\n",
    "# create the ML algorithm container\n",
    "lm = LinearRegression()\n",
    "\n",
    "# create the rfe container with the the number of features I want. \n",
    "rfe = RFE(lm, n_features_to_select=3)\n",
    "\n",
    "# fit RFE to the data\n",
    "rfe.fit(X_train_scaled,y_train)  \n",
    "\n",
    "# get the mask of the selected columns\n",
    "feature_mask = rfe.support_\n",
    "\n",
    "# get list of the column names. \n",
    "rfe_feature = X_train_scaled.iloc[:,feature_mask].columns.tolist()\n",
    "\n",
    "rfe_feature"
   ]
  },
  {
   "cell_type": "markdown",
   "id": "5843a5c4",
   "metadata": {},
   "source": [
    "### Notes:\n",
    "- Top 3 from RFE: term, sba_appv_amount, monthly_debt, term"
   ]
  },
  {
   "cell_type": "markdown",
   "id": "d3f69284",
   "metadata": {},
   "source": [
    "## Clustering (skip)"
   ]
  },
  {
   "cell_type": "markdown",
   "id": "196d2d78",
   "metadata": {},
   "source": [
    "## Explore Clustering (skip)"
   ]
  },
  {
   "cell_type": "markdown",
   "id": "bca1e264",
   "metadata": {},
   "source": [
    "## Foward to Modeling with Features\n",
    "- term\n",
    "- jobs_retained\n",
    "- jobs_count\n",
    "- sba_appv_amount\n",
    "- monthly_debt\n",
    "\n",
    "### Removed columns\n",
    "- Can't be used:\n",
    "    - loan_id\n",
    "    - name\n",
    "    - city\n",
    "    - state\n",
    "    - zip \n",
    "    - bank\n",
    "    - bank_state\n",
    "    - naic (can't be modeled date)\n",
    "    - appv_date (can't model date)\n",
    "    - appv_fy (can't model date)\n",
    "    - rev_credit\n",
    "    - low_doc\n",
    "    - disbursement_date (can't model date)\n",
    "- disbursement_gross (data_leak)\n",
    "- loan_status (replaced with is_default)\n",
    "- default_amount (data leak)\n",
    "- Features Not Selected by Feature Selection\n",
    "    - emp_num\n",
    "    - new_existing\n",
    "    - jobs_created\n",
    "    - franchise_code\n",
    "    - urban_rural\n",
    "    - appv_loan_amount\n",
    "    - is_new\n",
    "    - sba_percent\n",
    "    - is_naics_defaulter\n",
    "    - is_state_defaulter"
   ]
  },
  {
   "cell_type": "code",
   "execution_count": null,
   "id": "71fd0d7f",
   "metadata": {},
   "outputs": [],
   "source": [
    "# Select columns to scale for modeling\n",
    "cols = [\n",
    "'is_default',\n",
    "'term',\n",
    "'jobs_retained',\n",
    "'sba_appv_amount',\n",
    "'monthly_debt',\n",
    "'jobs_count',\n",
    "]"
   ]
  },
  {
   "cell_type": "code",
   "execution_count": null,
   "id": "71ab4ea7",
   "metadata": {},
   "outputs": [],
   "source": [
    "# establish target column\n",
    "target = 'is_default'\n",
    "\n",
    "# create X & y version of train, validate, test with y the target and X are the features. \n",
    "X_train = train[cols].drop(columns=[target])\n",
    "y_train = train[[target]]\n",
    "\n",
    "X_validate = validate[cols].drop(columns=[target])\n",
    "y_validate = validate[[target]]\n",
    "\n",
    "X_test = test[cols].drop(columns=[target])\n",
    "y_test = test[[target]]"
   ]
  },
  {
   "cell_type": "code",
   "execution_count": null,
   "id": "506ac475",
   "metadata": {},
   "outputs": [],
   "source": [
    "# Create the scale container\n",
    "scaler = sklearn.preprocessing.MinMaxScaler()\n",
    "\n",
    "# Fit the scaler to the features\n",
    "scaler.fit(X_train)\n",
    "\n",
    "# create scaled X versions \n",
    "X_train_scaled = scaler.transform(X_train)\n",
    "X_validate_scaled = scaler.transform(X_validate)\n",
    "X_test_scaled = scaler.transform(X_test)\n",
    "\n",
    "# Convert numpy array to pandas dataframe for feature Engineering\n",
    "X_train_scaled = pd.DataFrame(X_train_scaled, index=X_train.index, columns=X_train.columns.to_list())\n",
    "X_validate_scaled = pd.DataFrame(X_validate_scaled, index=X_validate.index, columns=X_validate.columns.to_list())\n",
    "X_test_scaled = pd.DataFrame(X_test_scaled, index=X_test.index, columns=X_test.columns.to_list())"
   ]
  },
  {
   "cell_type": "markdown",
   "id": "ddb6d4aa",
   "metadata": {},
   "source": [
    "<hr style=\"border:2px solid blue\"> </hr>\n",
    "\n",
    "# <font color = 'red'> Modeling"
   ]
  },
  {
   "cell_type": "markdown",
   "id": "24ba8656",
   "metadata": {},
   "source": [
    "### Use Classification Modeling to Predict if a Loan will Default\n",
    "- Models include: Decision Tree, Random Forest, and K-Nearest Neighbor\n",
    "- Evaluate on Accuracy\n",
    "\n",
    "## Model 0: Baseline"
   ]
  },
  {
   "cell_type": "code",
   "execution_count": null,
   "id": "ecfe46d4",
   "metadata": {
    "scrolled": true
   },
   "outputs": [],
   "source": [
    "# find mode of y_train to set for baseline\n",
    "y_train.mode()"
   ]
  },
  {
   "cell_type": "code",
   "execution_count": null,
   "id": "73a9a420",
   "metadata": {},
   "outputs": [],
   "source": [
    "# Create Baseline by setting all values to zero\n",
    "(y_train.is_default == 0).mean()"
   ]
  },
  {
   "cell_type": "markdown",
   "id": "ec56af97",
   "metadata": {},
   "source": [
    "## Notes:\n",
    "- Baseline accuracy is .79\n",
    "\n",
    "## Model 1: Perform Decision Tree on Train and Evaluate"
   ]
  },
  {
   "cell_type": "code",
   "execution_count": null,
   "id": "f4d1117c",
   "metadata": {},
   "outputs": [],
   "source": [
    "# Create Decision Tree Container\n",
    "clf = DecisionTreeClassifier(max_depth=3, random_state=123)\n",
    "\n",
    "# Fit Data to Container\n",
    "clf = clf.fit(X_train_scaled, y_train)\n",
    "\n",
    "# Create Prediction\n",
    "y_pred_clf = clf.predict(X_train_scaled)"
   ]
  },
  {
   "cell_type": "code",
   "execution_count": null,
   "id": "02aa602e",
   "metadata": {},
   "outputs": [],
   "source": [
    "# Create Classification Report for Model 1\n",
    "print(classification_report(y_train, y_pred_clf))"
   ]
  },
  {
   "cell_type": "markdown",
   "id": "b05ee187",
   "metadata": {},
   "source": [
    "### Notes:\n",
    "- Accuracy: .85 on Train\n",
    "\n",
    "## Model 1: Perform Decision Tree on Validate and Evaluate"
   ]
  },
  {
   "cell_type": "code",
   "execution_count": null,
   "id": "96edab66",
   "metadata": {},
   "outputs": [],
   "source": [
    "# Create Prediction on Validate\n",
    "y_pred_clf = clf.predict(X_validate_scaled)"
   ]
  },
  {
   "cell_type": "code",
   "execution_count": null,
   "id": "05caf809",
   "metadata": {},
   "outputs": [],
   "source": [
    "# Create Classification Report for Model 1 on Validate\n",
    "print(classification_report(y_validate, y_pred_clf))"
   ]
  },
  {
   "cell_type": "markdown",
   "id": "ef5aec6e",
   "metadata": {},
   "source": [
    "### Notes:\n",
    "- Accuracy: .85 on Validate\n",
    "\n",
    "## Model 2: Use Random Forest on Train and Evalute"
   ]
  },
  {
   "cell_type": "code",
   "execution_count": null,
   "id": "290c2cc8",
   "metadata": {},
   "outputs": [],
   "source": [
    "# Create Random Forest Classifier Container\n",
    "rf = RandomForestClassifier(max_depth=3, random_state=123)\n",
    "\n",
    "# Fit Train to Container\n",
    "rf = rf.fit(X_train_scaled, y_train)\n",
    "\n",
    "# Create Prediction \n",
    "y_pred_rf = rf.predict(X_train_scaled)"
   ]
  },
  {
   "cell_type": "code",
   "execution_count": null,
   "id": "b583f071",
   "metadata": {},
   "outputs": [],
   "source": [
    "# Create Classification Report for Model 2\n",
    "print(classification_report(y_train, y_pred_rf))"
   ]
  },
  {
   "cell_type": "markdown",
   "id": "7becd716",
   "metadata": {},
   "source": [
    "### Notes:\n",
    "- Accuracy: .85 on Train\n",
    "\n",
    "## Model 2: Use Random Forest on Validate and Evaluate"
   ]
  },
  {
   "cell_type": "code",
   "execution_count": null,
   "id": "d0776490",
   "metadata": {},
   "outputs": [],
   "source": [
    "# Create Prediction Series\n",
    "y_pred_rf = rf.predict(X_validate_scaled)\n",
    "\n",
    "# Create Classification Report for Model 2\n",
    "print(classification_report(y_validate, y_pred_rf))"
   ]
  },
  {
   "cell_type": "markdown",
   "id": "22861f73",
   "metadata": {},
   "source": [
    "### Notes:\n",
    "- Accuracy .85 on Validate\n",
    "\n",
    "## Model 3: K-Nearest Neighbor on Train and Evaluate"
   ]
  },
  {
   "cell_type": "code",
   "execution_count": null,
   "id": "2bbb3514",
   "metadata": {},
   "outputs": [],
   "source": [
    "# Create Decision Tree Classifier Algorithym Container\n",
    "knn = KNeighborsClassifier(n_neighbors=3, weights='uniform')\n",
    "\n",
    "# Fit Train Data to Container to make the model\n",
    "knn = knn.fit(X_train_scaled, y_train)\n",
    "\n",
    "# Create Prediction Series\n",
    "y_pred_knn = knn.predict(X_train_scaled)"
   ]
  },
  {
   "cell_type": "code",
   "execution_count": null,
   "id": "843ea139",
   "metadata": {},
   "outputs": [],
   "source": [
    "# Create Classification Report for Model 3\n",
    "print(classification_report(y_train, y_pred_knn))"
   ]
  },
  {
   "cell_type": "markdown",
   "id": "5385deb7",
   "metadata": {},
   "source": [
    "### Notes:\n",
    "- Accuracy: .94 on Train\n",
    "\n",
    "## Model 3: K-Nearest Neighbor on Validate and Evaluate"
   ]
  },
  {
   "cell_type": "code",
   "execution_count": null,
   "id": "4790da67",
   "metadata": {},
   "outputs": [],
   "source": [
    "# Create Prediction Series\n",
    "y_pred_knn = knn.predict(X_validate_scaled)\n",
    "\n",
    "# Create Classification Report for Model 3\n",
    "print(classification_report(y_validate, y_pred_knn))"
   ]
  },
  {
   "cell_type": "markdown",
   "id": "ce9a1bd8",
   "metadata": {},
   "source": [
    "### Notes:\n",
    "- Accuracy: .91 on Validate\n",
    "\n",
    "## Evaluate Models\n",
    "- Model 1: 85%. Not over/under fit\n",
    "- Model 2: 85%. Not over/under fit\n",
    "- Model 3: 94%. Not over/under fit\n",
    "- Foward with K-Nearest Neighbor since accuracy rating is highest at 94%"
   ]
  },
  {
   "cell_type": "markdown",
   "id": "177b2b1a",
   "metadata": {},
   "source": [
    "##  Model 3: Use K-Nearest Neighbor on Test Data and Evaluate"
   ]
  },
  {
   "cell_type": "code",
   "execution_count": null,
   "id": "87c22288",
   "metadata": {},
   "outputs": [],
   "source": [
    "# Create Prediction Series\n",
    "y_pred_knn = knn.predict(X_test_scaled)\n",
    "\n",
    "# Create Classification Report for Model 3\n",
    "print(classification_report(y_test, y_pred_knn))"
   ]
  },
  {
   "cell_type": "markdown",
   "id": "4319e88e",
   "metadata": {},
   "source": [
    "### Notes:\n",
    "- Accuracy: 91% on Test. Dropped by 3% but still consistent for unseen data\n",
    "\n",
    "## Modeling Summary\n",
    "- All models performed better than baseline but K-Nearest Neighbor performed best, .\n",
    "- K-Nearest Neighbor performed consisten with Test data indicating similar accuracy with new data"
   ]
  },
  {
   "cell_type": "markdown",
   "id": "7411914f",
   "metadata": {},
   "source": [
    "# <font color = 'red'> Delivery"
   ]
  },
  {
   "cell_type": "markdown",
   "id": "297a5b03",
   "metadata": {},
   "source": [
    "## Conclusion\n",
    "### Summary\n",
    "The goals of this project was to discover drivers of default for SBA back loans and to build a classfication model that will predict if a loan will default.\n",
    "\n",
    "The goals were reached. I identifed 4 drivers via exploration that indicated increased risk of default. Those drivers are:\n",
    "\n",
    "    1. Loans with a term of less than 80 months.\n",
    "    2. Loans in the restaurant and general automotive business\n",
    "    3. Loans for businesses in 24 states have higher risk of default. The top 3 states are FL, GA, NV\n",
    "    4. Loans for businesses that have fewer than 10 employees\n",
    "\n",
    "I tested each variable with Chi2 and confirmed all were groups were linked to defaults. After Feature Engineering two additional variables, I used all capable features for Feature Selection with Select K Best and Recursive Feature Elimination. I went forward with the following five features:\n",
    "\n",
    "    1. Term\n",
    "    2. Jobs Retained\n",
    "    3. SBA Approved Amount\n",
    "    4. Monthly Debt\n",
    "    5. Jobs Count\n",
    "\n",
    "I built 3 classification models using Decision Tree, Random Forest, and K-Nearest Neighbor. All three models performed above baseline with K-Nearest Neighbor peforming the best with a 94% accuracy on Train, 91% accuracy on Validate, and 91% accuracy on Test. K-Nearest Neighbor performed the best, is not under or overfit, and will work on new data\n",
    "\n",
    "### Recommendation\n",
    "Recommend model for next phase of testing and to be considered for operational implementation\n",
    "\n",
    "### Next Step\n",
    "With more time, I would engineer more feature from the categorical varibables and find better time line data that can overlap with general economic data.\n"
   ]
  },
  {
   "cell_type": "code",
   "execution_count": null,
   "id": "d3afc5a9",
   "metadata": {},
   "outputs": [],
   "source": []
  }
 ],
 "metadata": {
  "kernelspec": {
   "display_name": "Python 3",
   "language": "python",
   "name": "python3"
  },
  "language_info": {
   "codemirror_mode": {
    "name": "ipython",
    "version": 3
   },
   "file_extension": ".py",
   "mimetype": "text/x-python",
   "name": "python",
   "nbconvert_exporter": "python",
   "pygments_lexer": "ipython3",
   "version": "3.8.8"
  }
 },
 "nbformat": 4,
 "nbformat_minor": 5
}
